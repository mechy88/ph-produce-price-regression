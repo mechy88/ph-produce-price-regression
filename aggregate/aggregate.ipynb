{
 "cells": [
  {
   "cell_type": "markdown",
   "id": "c93731a5-64d8-4b95-9639-eb34745d4fb3",
   "metadata": {},
   "source": [
    "# Aggregate Data Predicitons and Result Discussion"
   ]
  },
  {
   "cell_type": "markdown",
   "id": "064889d2-c214-470c-afe5-1dbf043b3bfe",
   "metadata": {},
   "source": [
    "# Import Data"
   ]
  },
  {
   "cell_type": "code",
   "execution_count": 1,
   "id": "38cb2460-870a-4b0c-971b-f0fce31b0489",
   "metadata": {},
   "outputs": [],
   "source": [
    "import pandas as pd"
   ]
  },
  {
   "cell_type": "code",
   "execution_count": 2,
   "id": "e19250a9-10ce-4330-8659-365c072f2315",
   "metadata": {},
   "outputs": [],
   "source": [
    "tilapia_protein = pd.read_csv('./tilapia/protein.csv')\n",
    "tilapia_protein.rename(columns={'Unnamed: 0': 'date'}, inplace=True)\n",
    "tilapia_protein['date'] = pd.to_datetime(tilapia_protein['date'])\n",
    "tilapia_protein.set_index('date', inplace=True)\n",
    "tilapia_protein['item'] = 'tilapia'\n",
    "\n",
    "tilapia_carbs = pd.read_csv('./tilapia/carbs.csv')\n",
    "tilapia_carbs.rename(columns={'Unnamed: 0': 'date'}, inplace=True)\n",
    "tilapia_carbs['date'] = pd.to_datetime(tilapia_carbs['date'])\n",
    "tilapia_carbs.set_index('date', inplace=True)\n",
    "tilapia_carbs['item'] = 'tilapia' \n",
    "\n",
    "tilapia_fats = pd.read_csv('./tilapia/fats.csv')\n",
    "tilapia_fats.rename(columns={'Unnamed: 0': 'date'}, inplace=True)\n",
    "tilapia_fats['date'] = pd.to_datetime(tilapia_fats['date'])\n",
    "tilapia_fats.set_index('date', inplace=True)\n",
    "tilapia_fats['item'] = 'tilapia' \n",
    "\n",
    "tilapia_fiber = pd.read_csv('./tilapia/fiber.csv')\n",
    "tilapia_fiber.rename(columns={'Unnamed: 0': 'date'}, inplace=True)\n",
    "tilapia_fiber['date'] = pd.to_datetime(tilapia_fiber['date'])\n",
    "tilapia_fiber.set_index('date', inplace=True)\n",
    "tilapia_fiber['item'] = 'tilapia'"
   ]
  },
  {
   "cell_type": "code",
   "execution_count": 3,
   "id": "72a14790-abfa-41e4-9e0f-534f0b8300ad",
   "metadata": {},
   "outputs": [],
   "source": [
    "potato_protein = pd.read_csv('./potato/protein.csv')\n",
    "potato_protein.rename(columns={'Unnamed: 0': 'date'}, inplace=True)\n",
    "potato_protein['date'] = pd.to_datetime(potato_protein['date'])\n",
    "potato_protein.set_index('date', inplace=True)\n",
    "potato_protein['item'] = 'potato' \n",
    "\n",
    "potato_carbs = pd.read_csv('./potato/carbs.csv')\n",
    "potato_carbs.rename(columns={'Unnamed: 0': 'date'}, inplace=True)\n",
    "potato_carbs['date'] = pd.to_datetime(potato_carbs['date'])\n",
    "potato_carbs.set_index('date', inplace=True)\n",
    "potato_carbs['item'] = 'potato' \n",
    "\n",
    "potato_fats = pd.read_csv('./potato/fats.csv')\n",
    "potato_fats.rename(columns={'Unnamed: 0': 'date'}, inplace=True)\n",
    "potato_fats['date'] = pd.to_datetime(potato_fats['date'])\n",
    "potato_fats.set_index('date', inplace=True)\n",
    "potato_fats['item'] = 'potato' \n",
    "\n",
    "potato_fiber = pd.read_csv('./potato/fiber.csv')\n",
    "potato_fiber.rename(columns={'Unnamed: 0': 'date'}, inplace=True)\n",
    "potato_fiber['date'] = pd.to_datetime(potato_fiber['date'])\n",
    "potato_fiber.set_index('date', inplace=True)\n",
    "potato_fiber['item'] = 'potato'"
   ]
  },
  {
   "cell_type": "code",
   "execution_count": 4,
   "id": "c39fca8f-71fe-4819-a8b2-3726fe2b4eda",
   "metadata": {},
   "outputs": [],
   "source": [
    "# lakatan\n",
    "lakatan_protein = pd.read_csv('./lakatan/protein.csv')\n",
    "lakatan_protein.rename(columns={'Unnamed: 0': 'date'}, inplace=True)\n",
    "lakatan_protein['date'] = pd.to_datetime(lakatan_protein['date'])\n",
    "lakatan_protein.set_index('date', inplace=True)\n",
    "lakatan_protein['item'] = 'lakatan' \n",
    "\n",
    "lakatan_carbs = pd.read_csv('./lakatan/carbs.csv')\n",
    "lakatan_carbs.rename(columns={'Unnamed: 0': 'date'}, inplace=True)\n",
    "lakatan_carbs['date'] = pd.to_datetime(lakatan_carbs['date'])\n",
    "lakatan_carbs.set_index('date', inplace=True)\n",
    "lakatan_carbs['item'] = 'lakatan' \n",
    "\n",
    "lakatan_fats = pd.read_csv('./lakatan/fats.csv')\n",
    "lakatan_fats.rename(columns={'Unnamed: 0': 'date'}, inplace=True)\n",
    "lakatan_fats['date'] = pd.to_datetime(lakatan_fats['date'])\n",
    "lakatan_fats.set_index('date', inplace=True)\n",
    "lakatan_fats['item'] = 'lakatan' \n",
    "\n",
    "lakatan_fiber = pd.read_csv('./lakatan/fiber.csv')\n",
    "lakatan_fiber.rename(columns={'Unnamed: 0': 'date'}, inplace=True)\n",
    "lakatan_fiber['date'] = pd.to_datetime(lakatan_fiber['date'])\n",
    "lakatan_fiber.set_index('date', inplace=True)\n",
    "lakatan_fiber['item'] = 'lakatan'"
   ]
  },
  {
   "cell_type": "code",
   "execution_count": 60,
   "id": "bb691d6a-da6a-4bef-93c9-090687e9ee1b",
   "metadata": {},
   "outputs": [],
   "source": [
    "rice_protein = pd.read_csv('./rice/protein.csv')\n",
    "rice_protein.rename(columns={'Unnamed: 0': 'date'}, inplace=True)\n",
    "rice_protein['date'] = pd.to_datetime(rice_protein['date'])\n",
    "rice_protein.set_index('date', inplace=True)\n",
    "rice_protein['item'] = 'rice' \n",
    "\n",
    "rice_carbs = pd.read_csv('./rice/carbs.csv')\n",
    "rice_carbs.rename(columns={'Unnamed: 0': 'date'}, inplace=True)\n",
    "rice_carbs['date'] = pd.to_datetime(rice_carbs['date'])\n",
    "rice_carbs.set_index('date', inplace=True)\n",
    "rice_carbs['item'] = 'rice' \n",
    "\n",
    "rice_fats = pd.read_csv('./rice/fats.csv')\n",
    "rice_fats.rename(columns={'Unnamed: 0': 'date'}, inplace=True)\n",
    "rice_fats['date'] = pd.to_datetime(rice_fats['date'])\n",
    "rice_fats.set_index('date', inplace=True)\n",
    "rice_fats['item'] = 'rice' \n",
    "\n",
    "rice_fiber = pd.read_csv('./rice/fiber.csv')\n",
    "rice_fiber.rename(columns={'Unnamed: 0': 'date'}, inplace=True)\n",
    "rice_fiber['date'] = pd.to_datetime(rice_fiber['date'])\n",
    "rice_fiber.set_index('date', inplace=True)\n",
    "rice_fiber['item'] = 'rice'"
   ]
  },
  {
   "cell_type": "code",
   "execution_count": 70,
   "id": "b3d16682-153e-4060-9520-8735a4cb98cf",
   "metadata": {},
   "outputs": [],
   "source": [
    "# beef\n",
    "beef_protein = pd.read_csv('./beef/protein.csv')\n",
    "beef_protein.rename(columns={'Unnamed: 0': 'date'}, inplace=True)\n",
    "beef_protein['date'] = pd.to_datetime(beef_protein['date'])\n",
    "beef_protein.set_index('date', inplace=True)\n",
    "beef_protein['item'] = 'beef' \n",
    "\n",
    "beef_carbs = pd.read_csv('./beef/carbs.csv')\n",
    "beef_carbs.rename(columns={'Unnamed: 0': 'date'}, inplace=True)\n",
    "beef_carbs['date'] = pd.to_datetime(beef_carbs['date'])\n",
    "beef_carbs.set_index('date', inplace=True)\n",
    "beef_carbs['item'] = 'beef' \n",
    "\n",
    "beef_fats = pd.read_csv('./beef/fats.csv')\n",
    "beef_fats.rename(columns={'Unnamed: 0': 'date'}, inplace=True)\n",
    "beef_fats['date'] = pd.to_datetime(beef_fats['date'])\n",
    "beef_fats.set_index('date', inplace=True)\n",
    "beef_fats['item'] = 'beef' \n",
    "\n",
    "beef_fiber = pd.read_csv('./beef/fiber.csv')\n",
    "beef_fiber.rename(columns={'Unnamed: 0': 'date'}, inplace=True)\n",
    "beef_fiber['date'] = pd.to_datetime(beef_fiber['date'])\n",
    "beef_fiber.set_index('date', inplace=True)\n",
    "beef_fiber['item'] = 'beef'"
   ]
  },
  {
   "cell_type": "code",
   "execution_count": 76,
   "id": "f5babcce-f87f-4cb9-a45a-3fe7c9fe0126",
   "metadata": {},
   "outputs": [],
   "source": [
    "# bitter melon / ampalaya\n",
    "ampalaya_protein = pd.read_csv('./ampalaya/protein.csv')\n",
    "ampalaya_protein.rename(columns={'Unnamed: 0': 'date'}, inplace=True)\n",
    "ampalaya_protein['date'] = pd.to_datetime(ampalaya_protein['date'])\n",
    "ampalaya_protein.set_index('date', inplace=True)\n",
    "ampalaya_protein['item'] = 'ampalaya' \n",
    "\n",
    "ampalaya_carbs = pd.read_csv('./ampalaya/carbs.csv')\n",
    "ampalaya_carbs.rename(columns={'Unnamed: 0': 'date'}, inplace=True)\n",
    "ampalaya_carbs['date'] = pd.to_datetime(ampalaya_carbs['date'])\n",
    "ampalaya_carbs.set_index('date', inplace=True)\n",
    "ampalaya_carbs['item'] = 'ampalaya' \n",
    "\n",
    "ampalaya_fats = pd.read_csv('./ampalaya/fats.csv')\n",
    "ampalaya_fats.rename(columns={'Unnamed: 0': 'date'}, inplace=True)\n",
    "ampalaya_fats['date'] = pd.to_datetime(ampalaya_fats['date'])\n",
    "ampalaya_fats.set_index('date', inplace=True)\n",
    "ampalaya_fats['item'] = 'ampalaya' \n",
    "\n",
    "ampalaya_fiber = pd.read_csv('./ampalaya/fiber.csv')\n",
    "ampalaya_fiber.rename(columns={'Unnamed: 0': 'date'}, inplace=True)\n",
    "ampalaya_fiber['date'] = pd.to_datetime(ampalaya_fiber['date'])\n",
    "ampalaya_fiber.set_index('date', inplace=True)\n",
    "ampalaya_fiber['item'] = 'ampalaya'"
   ]
  },
  {
   "cell_type": "code",
   "execution_count": 81,
   "id": "51cb41ba-a7b2-4b52-babf-fca1fa52b71a",
   "metadata": {},
   "outputs": [],
   "source": [
    "# cabbage\n",
    "cabbage_protein = pd.read_csv('./cabbage/protein.csv')\n",
    "cabbage_protein.rename(columns={'Unnamed: 0': 'date'}, inplace=True)\n",
    "cabbage_protein['date'] = pd.to_datetime(cabbage_protein['date'])\n",
    "cabbage_protein.set_index('date', inplace=True)\n",
    "cabbage_protein['item'] = 'cabbage' \n",
    "\n",
    "cabbage_carbs = pd.read_csv('./cabbage/carbs.csv')\n",
    "cabbage_carbs.rename(columns={'Unnamed: 0': 'date'}, inplace=True)\n",
    "cabbage_carbs['date'] = pd.to_datetime(cabbage_carbs['date'])\n",
    "cabbage_carbs.set_index('date', inplace=True)\n",
    "cabbage_carbs['item'] = 'cabbage' \n",
    "\n",
    "cabbage_fats = pd.read_csv('./cabbage/fats.csv')\n",
    "cabbage_fats.rename(columns={'Unnamed: 0': 'date'}, inplace=True)\n",
    "cabbage_fats['date'] = pd.to_datetime(cabbage_fats['date'])\n",
    "cabbage_fats.set_index('date', inplace=True)\n",
    "cabbage_fats['item'] = 'cabbage' \n",
    "\n",
    "cabbage_fiber = pd.read_csv('./cabbage/fiber.csv')\n",
    "cabbage_fiber.rename(columns={'Unnamed: 0': 'date'}, inplace=True)\n",
    "cabbage_fiber['date'] = pd.to_datetime(cabbage_fiber['date'])\n",
    "cabbage_fiber.set_index('date', inplace=True)\n",
    "cabbage_fiber['item'] = 'cabbage'"
   ]
  },
  {
   "cell_type": "code",
   "execution_count": 83,
   "id": "e5b6af9d-c1b8-46cd-a54c-ac4dd261c1ea",
   "metadata": {},
   "outputs": [],
   "source": [
    "# calamansi\n",
    "calamansi_protein = pd.read_csv('./calamansi/protein.csv')\n",
    "calamansi_protein.rename(columns={'Unnamed: 0': 'date'}, inplace=True)\n",
    "calamansi_protein['date'] = pd.to_datetime(calamansi_protein['date'])\n",
    "calamansi_protein.set_index('date', inplace=True)\n",
    "calamansi_protein['item'] = 'calamansi' \n",
    "\n",
    "calamansi_carbs = pd.read_csv('./calamansi/carbs.csv')\n",
    "calamansi_carbs.rename(columns={'Unnamed: 0': 'date'}, inplace=True)\n",
    "calamansi_carbs['date'] = pd.to_datetime(calamansi_carbs['date'])\n",
    "calamansi_carbs.set_index('date', inplace=True)\n",
    "calamansi_carbs['item'] = 'calamansi' \n",
    "\n",
    "calamansi_fats = pd.read_csv('./calamansi/fats.csv')\n",
    "calamansi_fats.rename(columns={'Unnamed: 0': 'date'}, inplace=True)\n",
    "calamansi_fats['date'] = pd.to_datetime(calamansi_fats['date'])\n",
    "calamansi_fats.set_index('date', inplace=True)\n",
    "calamansi_fats['item'] = 'calamansi' \n",
    "\n",
    "calamansi_fiber = pd.read_csv('./calamansi/fiber.csv')\n",
    "calamansi_fiber.rename(columns={'Unnamed: 0': 'date'}, inplace=True)\n",
    "calamansi_fiber['date'] = pd.to_datetime(calamansi_fiber['date'])\n",
    "calamansi_fiber.set_index('date', inplace=True)\n",
    "calamansi_fiber['item'] = 'calamansi'"
   ]
  },
  {
   "cell_type": "code",
   "execution_count": 86,
   "id": "41f877c3-30b3-4e7a-a20b-2945e7367693",
   "metadata": {},
   "outputs": [],
   "source": [
    "# carrot\n",
    "carrot_protein = pd.read_csv('./carrot/protein.csv')\n",
    "carrot_protein.rename(columns={'Unnamed: 0': 'date'}, inplace=True)\n",
    "carrot_protein['date'] = pd.to_datetime(carrot_protein['date'])\n",
    "carrot_protein.set_index('date', inplace=True)\n",
    "carrot_protein['item'] = 'carrot' \n",
    "\n",
    "carrot_carbs = pd.read_csv('./carrot/carbs.csv')\n",
    "carrot_carbs.rename(columns={'Unnamed: 0': 'date'}, inplace=True)\n",
    "carrot_carbs['date'] = pd.to_datetime(carrot_carbs['date'])\n",
    "carrot_carbs.set_index('date', inplace=True)\n",
    "carrot_carbs['item'] = 'carrot' \n",
    "\n",
    "carrot_fats = pd.read_csv('./carrot/fats.csv')\n",
    "carrot_fats.rename(columns={'Unnamed: 0': 'date'}, inplace=True)\n",
    "carrot_fats['date'] = pd.to_datetime(carrot_fats['date'])\n",
    "carrot_fats.set_index('date', inplace=True)\n",
    "carrot_fats['item'] = 'carrot' \n",
    "\n",
    "carrot_fiber = pd.read_csv('./carrot/fiber.csv')\n",
    "carrot_fiber.rename(columns={'Unnamed: 0': 'date'}, inplace=True)\n",
    "carrot_fiber['date'] = pd.to_datetime(carrot_fiber['date'])\n",
    "carrot_fiber.set_index('date', inplace=True)\n",
    "carrot_fiber['item'] = 'carrot'"
   ]
  },
  {
   "cell_type": "code",
   "execution_count": 88,
   "id": "92dc716a-b81a-4d00-9fb2-4811becf3a84",
   "metadata": {},
   "outputs": [],
   "source": [
    "# eggplant\n",
    "eggplant_protein = pd.read_csv('./eggplant/protein.csv')\n",
    "eggplant_protein.rename(columns={'Unnamed: 0': 'date'}, inplace=True)\n",
    "eggplant_protein['date'] = pd.to_datetime(eggplant_protein['date'])\n",
    "eggplant_protein.set_index('date', inplace=True)\n",
    "eggplant_protein['item'] = 'eggplant' \n",
    "\n",
    "eggplant_carbs = pd.read_csv('./eggplant/carbs.csv')\n",
    "eggplant_carbs.rename(columns={'Unnamed: 0': 'date'}, inplace=True)\n",
    "eggplant_carbs['date'] = pd.to_datetime(eggplant_carbs['date'])\n",
    "eggplant_carbs.set_index('date', inplace=True)\n",
    "eggplant_carbs['item'] = 'eggplant' \n",
    "\n",
    "eggplant_fats = pd.read_csv('./eggplant/fats.csv')\n",
    "eggplant_fats.rename(columns={'Unnamed: 0': 'date'}, inplace=True)\n",
    "eggplant_fats['date'] = pd.to_datetime(eggplant_fats['date'])\n",
    "eggplant_fats.set_index('date', inplace=True)\n",
    "eggplant_fats['item'] = 'eggplant' \n",
    "\n",
    "eggplant_fiber = pd.read_csv('./eggplant/fiber.csv')\n",
    "eggplant_fiber.rename(columns={'Unnamed: 0': 'date'}, inplace=True)\n",
    "eggplant_fiber['date'] = pd.to_datetime(eggplant_fiber['date'])\n",
    "eggplant_fiber.set_index('date', inplace=True)\n",
    "eggplant_fiber['item'] = 'eggplant'"
   ]
  },
  {
   "cell_type": "code",
   "execution_count": 90,
   "id": "e3896bd5-4812-412f-9fcc-e1e8f06e795c",
   "metadata": {},
   "outputs": [],
   "source": [
    "# mackerel\n",
    "mackerel_protein = pd.read_csv('./mackerel/protein.csv')\n",
    "mackerel_protein.rename(columns={'Unnamed: 0': 'date'}, inplace=True)\n",
    "mackerel_protein['date'] = pd.to_datetime(mackerel_protein['date'])\n",
    "mackerel_protein.set_index('date', inplace=True)\n",
    "mackerel_protein['item'] = 'mackerel' \n",
    "\n",
    "mackerel_carbs = pd.read_csv('./mackerel/carbs.csv')\n",
    "mackerel_carbs.rename(columns={'Unnamed: 0': 'date'}, inplace=True)\n",
    "mackerel_carbs['date'] = pd.to_datetime(mackerel_carbs['date'])\n",
    "mackerel_carbs.set_index('date', inplace=True)\n",
    "mackerel_carbs['item'] = 'mackerel' \n",
    "\n",
    "mackerel_fats = pd.read_csv('./mackerel/fats.csv')\n",
    "mackerel_fats.rename(columns={'Unnamed: 0': 'date'}, inplace=True)\n",
    "mackerel_fats['date'] = pd.to_datetime(mackerel_fats['date'])\n",
    "mackerel_fats.set_index('date', inplace=True)\n",
    "mackerel_fats['item'] = 'mackerel' \n",
    "\n",
    "mackerel_fiber = pd.read_csv('./mackerel/fiber.csv')\n",
    "mackerel_fiber.rename(columns={'Unnamed: 0': 'date'}, inplace=True)\n",
    "mackerel_fiber['date'] = pd.to_datetime(mackerel_fiber['date'])\n",
    "mackerel_fiber.set_index('date', inplace=True)\n",
    "mackerel_fiber['item'] = 'mackerel'"
   ]
  },
  {
   "cell_type": "code",
   "execution_count": 93,
   "id": "01b7e3d4-52d9-4062-a2ca-02e2695f91f8",
   "metadata": {},
   "outputs": [],
   "source": [
    "# milkfish\n",
    "milkfish_protein = pd.read_csv('./milkfish/protein.csv')\n",
    "milkfish_protein.rename(columns={'Unnamed: 0': 'date'}, inplace=True)\n",
    "milkfish_protein['date'] = pd.to_datetime(milkfish_protein['date'])\n",
    "milkfish_protein.set_index('date', inplace=True)\n",
    "milkfish_protein['item'] = 'milkfish' \n",
    "\n",
    "milkfish_carbs = pd.read_csv('./milkfish/carbs.csv')\n",
    "milkfish_carbs.rename(columns={'Unnamed: 0': 'date'}, inplace=True)\n",
    "milkfish_carbs['date'] = pd.to_datetime(milkfish_carbs['date'])\n",
    "milkfish_carbs.set_index('date', inplace=True)\n",
    "milkfish_carbs['item'] = 'milkfish' \n",
    "\n",
    "milkfish_fats = pd.read_csv('./milkfish/fats.csv')\n",
    "milkfish_fats.rename(columns={'Unnamed: 0': 'date'}, inplace=True)\n",
    "milkfish_fats['date'] = pd.to_datetime(milkfish_fats['date'])\n",
    "milkfish_fats.set_index('date', inplace=True)\n",
    "milkfish_fats['item'] = 'milkfish' \n",
    "\n",
    "milkfish_fiber = pd.read_csv('./milkfish/fiber.csv')\n",
    "milkfish_fiber.rename(columns={'Unnamed: 0': 'date'}, inplace=True)\n",
    "milkfish_fiber['date'] = pd.to_datetime(milkfish_fiber['date'])\n",
    "milkfish_fiber.set_index('date', inplace=True)\n",
    "milkfish_fiber['item'] = 'milkfish'"
   ]
  },
  {
   "cell_type": "code",
   "execution_count": 95,
   "id": "1ab579bb-e1a0-497a-a29d-79e73d194b5e",
   "metadata": {},
   "outputs": [],
   "source": [
    "# papaya\n",
    "papaya_protein = pd.read_csv('./papaya/protein.csv')\n",
    "papaya_protein.rename(columns={'Unnamed: 0': 'date'}, inplace=True)\n",
    "papaya_protein['date'] = pd.to_datetime(papaya_protein['date'])\n",
    "papaya_protein.set_index('date', inplace=True)\n",
    "papaya_protein['item'] = 'papaya' \n",
    "\n",
    "papaya_carbs = pd.read_csv('./papaya/carbs.csv')\n",
    "papaya_carbs.rename(columns={'Unnamed: 0': 'date'}, inplace=True)\n",
    "papaya_carbs['date'] = pd.to_datetime(papaya_carbs['date'])\n",
    "papaya_carbs.set_index('date', inplace=True)\n",
    "papaya_carbs['item'] = 'papaya' \n",
    "\n",
    "papaya_fats = pd.read_csv('./papaya/fats.csv')\n",
    "papaya_fats.rename(columns={'Unnamed: 0': 'date'}, inplace=True)\n",
    "papaya_fats['date'] = pd.to_datetime(papaya_fats['date'])\n",
    "papaya_fats.set_index('date', inplace=True)\n",
    "papaya_fats['item'] = 'papaya' \n",
    "\n",
    "papaya_fiber = pd.read_csv('./papaya/fiber.csv')\n",
    "papaya_fiber.rename(columns={'Unnamed: 0': 'date'}, inplace=True)\n",
    "papaya_fiber['date'] = pd.to_datetime(papaya_fiber['date'])\n",
    "papaya_fiber.set_index('date', inplace=True)\n",
    "papaya_fiber['item'] = 'papaya'"
   ]
  },
  {
   "cell_type": "code",
   "execution_count": 97,
   "id": "b9c4c3cc-66a8-4950-946f-14976cf622f7",
   "metadata": {},
   "outputs": [],
   "source": [
    "# latundan\n",
    "latundan_protein = pd.read_csv('./latundan/protein.csv')\n",
    "latundan_protein.rename(columns={'Unnamed: 0': 'date'}, inplace=True)\n",
    "latundan_protein['date'] = pd.to_datetime(latundan_protein['date'])\n",
    "latundan_protein.set_index('date', inplace=True)\n",
    "latundan_protein['item'] = 'latundan' \n",
    "\n",
    "latundan_carbs = pd.read_csv('./latundan/carbs.csv')\n",
    "latundan_carbs.rename(columns={'Unnamed: 0': 'date'}, inplace=True)\n",
    "latundan_carbs['date'] = pd.to_datetime(latundan_carbs['date'])\n",
    "latundan_carbs.set_index('date', inplace=True)\n",
    "latundan_carbs['item'] = 'latundan' \n",
    "\n",
    "latundan_fats = pd.read_csv('./latundan/fats.csv')\n",
    "latundan_fats.rename(columns={'Unnamed: 0': 'date'}, inplace=True)\n",
    "latundan_fats['date'] = pd.to_datetime(latundan_fats['date'])\n",
    "latundan_fats.set_index('date', inplace=True)\n",
    "latundan_fats['item'] = 'latundan' \n",
    "\n",
    "latundan_fiber = pd.read_csv('./latundan/fiber.csv')\n",
    "latundan_fiber.rename(columns={'Unnamed: 0': 'date'}, inplace=True)\n",
    "latundan_fiber['date'] = pd.to_datetime(latundan_fiber['date'])\n",
    "latundan_fiber.set_index('date', inplace=True)\n",
    "latundan_fiber['item'] = 'latundan'"
   ]
  },
  {
   "cell_type": "code",
   "execution_count": 104,
   "id": "bad43780-7386-41ae-a1b4-f57a7325b9f8",
   "metadata": {},
   "outputs": [],
   "source": [
    "# roundcad\n",
    "roundscad_protein = pd.read_csv('./roundscad/protein.csv')\n",
    "roundscad_protein.rename(columns={'Unnamed: 0': 'date'}, inplace=True)\n",
    "roundscad_protein['date'] = pd.to_datetime(roundscad_protein['date'])\n",
    "roundscad_protein.set_index('date', inplace=True)\n",
    "roundscad_protein['item'] = 'roundscad' \n",
    "\n",
    "roundscad_carbs = pd.read_csv('./roundscad/carbs.csv')\n",
    "roundscad_carbs.rename(columns={'Unnamed: 0': 'date'}, inplace=True)\n",
    "roundscad_carbs['date'] = pd.to_datetime(roundscad_carbs['date'])\n",
    "roundscad_carbs.set_index('date', inplace=True)\n",
    "roundscad_carbs['item'] = 'roundscad' \n",
    "\n",
    "roundscad_fats = pd.read_csv('./roundscad/fats.csv')\n",
    "roundscad_fats.rename(columns={'Unnamed: 0': 'date'}, inplace=True)\n",
    "roundscad_fats['date'] = pd.to_datetime(roundscad_fats['date'])\n",
    "roundscad_fats.set_index('date', inplace=True)\n",
    "roundscad_fats['item'] = 'roundscad' \n",
    "\n",
    "roundscad_fiber = pd.read_csv('./roundscad/fiber.csv')\n",
    "roundscad_fiber.rename(columns={'Unnamed: 0': 'date'}, inplace=True)\n",
    "roundscad_fiber['date'] = pd.to_datetime(roundscad_fiber['date'])\n",
    "roundscad_fiber.set_index('date', inplace=True)\n",
    "roundscad_fiber['item'] = 'roundscad'"
   ]
  },
  {
   "cell_type": "code",
   "execution_count": 106,
   "id": "208dfadc-3501-4282-b41b-aefd2aae5996",
   "metadata": {},
   "outputs": [],
   "source": [
    "# tomato\n",
    "tomato_protein = pd.read_csv('./tomato/protein.csv')\n",
    "tomato_protein.rename(columns={'Unnamed: 0': 'date'}, inplace=True)\n",
    "tomato_protein['date'] = pd.to_datetime(tomato_protein['date'])\n",
    "tomato_protein.set_index('date', inplace=True)\n",
    "tomato_protein['item'] = 'tomato' \n",
    "\n",
    "tomato_carbs = pd.read_csv('./tomato/carbs.csv')\n",
    "tomato_carbs.rename(columns={'Unnamed: 0': 'date'}, inplace=True)\n",
    "tomato_carbs['date'] = pd.to_datetime(tomato_carbs['date'])\n",
    "tomato_carbs.set_index('date', inplace=True)\n",
    "tomato_carbs['item'] = 'tomato' \n",
    "\n",
    "tomato_fats = pd.read_csv('./tomato/fats.csv')\n",
    "tomato_fats.rename(columns={'Unnamed: 0': 'date'}, inplace=True)\n",
    "tomato_fats['date'] = pd.to_datetime(tomato_fats['date'])\n",
    "tomato_fats.set_index('date', inplace=True)\n",
    "tomato_fats['item'] = 'tomato' \n",
    "\n",
    "tomato_fiber = pd.read_csv('./tomato/fiber.csv')\n",
    "tomato_fiber.rename(columns={'Unnamed: 0': 'date'}, inplace=True)\n",
    "tomato_fiber['date'] = pd.to_datetime(tomato_fiber['date'])\n",
    "tomato_fiber.set_index('date', inplace=True)\n",
    "tomato_fiber['item'] = 'tomato'"
   ]
  },
  {
   "cell_type": "code",
   "execution_count": 107,
   "id": "cc3caff3-be37-4f15-872e-f42f42a50f68",
   "metadata": {},
   "outputs": [],
   "source": [
    "# Egg\n",
    "egg_protein = pd.read_csv('./egg/protein.csv')\n",
    "egg_protein.rename(columns={'Unnamed: 0': 'date'}, inplace=True)\n",
    "egg_protein['date'] = pd.to_datetime(egg_protein['date'])\n",
    "egg_protein.set_index('date', inplace=True)\n",
    "egg_protein['item'] = 'egg' \n",
    "\n",
    "egg_carbs = pd.read_csv('./egg/carbs.csv')\n",
    "egg_carbs.rename(columns={'Unnamed: 0': 'date'}, inplace=True)\n",
    "egg_carbs['date'] = pd.to_datetime(egg_carbs['date'])\n",
    "egg_carbs.set_index('date', inplace=True)\n",
    "egg_carbs['item'] = 'egg' \n",
    "\n",
    "egg_fats = pd.read_csv('./egg/fats.csv')\n",
    "egg_fats.rename(columns={'Unnamed: 0': 'date'}, inplace=True)\n",
    "egg_fats['date'] = pd.to_datetime(egg_fats['date'])\n",
    "egg_fats.set_index('date', inplace=True)\n",
    "egg_fats['item'] = 'egg' \n",
    "\n",
    "egg_fiber = pd.read_csv('./egg/fiber.csv')\n",
    "egg_fiber.rename(columns={'Unnamed: 0': 'date'}, inplace=True)\n",
    "egg_fiber['date'] = pd.to_datetime(egg_fiber['date'])\n",
    "egg_fiber.set_index('date', inplace=True)\n",
    "egg_fiber['item'] = 'egg'"
   ]
  },
  {
   "cell_type": "code",
   "execution_count": 108,
   "id": "3750785f-0f75-4374-85ca-a9643a7fb6a3",
   "metadata": {},
   "outputs": [],
   "source": [
    "# Chicken\n",
    "chicken_protein = pd.read_csv('./chicken/protein.csv')\n",
    "chicken_protein.rename(columns={'Unnamed: 0': 'date'}, inplace=True)\n",
    "chicken_protein['date'] = pd.to_datetime(chicken_protein['date'])\n",
    "chicken_protein.set_index('date', inplace=True)\n",
    "chicken_protein['item'] = 'chicken' \n",
    "\n",
    "chicken_carbs = pd.read_csv('./chicken/carbs.csv')\n",
    "chicken_carbs.rename(columns={'Unnamed: 0': 'date'}, inplace=True)\n",
    "chicken_carbs['date'] = pd.to_datetime(chicken_carbs['date'])\n",
    "chicken_carbs.set_index('date', inplace=True)\n",
    "chicken_carbs['item'] = 'chicken' \n",
    "\n",
    "chicken_fats = pd.read_csv('./chicken/fats.csv')\n",
    "chicken_fats.rename(columns={'Unnamed: 0': 'date'}, inplace=True)\n",
    "chicken_fats['date'] = pd.to_datetime(chicken_fats['date'])\n",
    "chicken_fats.set_index('date', inplace=True)\n",
    "chicken_fats['item'] = 'chicken' \n",
    "\n",
    "chicken_fiber = pd.read_csv('./chicken/fiber.csv')\n",
    "chicken_fiber.rename(columns={'Unnamed: 0': 'date'}, inplace=True)\n",
    "chicken_fiber['date'] = pd.to_datetime(chicken_fiber['date'])\n",
    "chicken_fiber.set_index('date', inplace=True)\n",
    "chicken_fiber['item'] = 'chicken'"
   ]
  },
  {
   "cell_type": "code",
   "execution_count": null,
   "id": "63f80395-f0cb-425c-a84c-9d0930b9cd5d",
   "metadata": {},
   "outputs": [],
   "source": []
  },
  {
   "cell_type": "code",
   "execution_count": null,
   "id": "01f5afaa-bf27-4c78-adc7-3c3c97ef2569",
   "metadata": {},
   "outputs": [],
   "source": []
  },
  {
   "cell_type": "code",
   "execution_count": null,
   "id": "68e32964-e0a2-44d1-ad49-45db35a83ee8",
   "metadata": {},
   "outputs": [],
   "source": []
  },
  {
   "cell_type": "code",
   "execution_count": null,
   "id": "73a30328-fce5-4522-a067-35f7306c6e69",
   "metadata": {},
   "outputs": [],
   "source": []
  },
  {
   "cell_type": "code",
   "execution_count": null,
   "id": "c80328e2-b3ca-48e6-b39e-0be3b34ad6a2",
   "metadata": {},
   "outputs": [],
   "source": []
  },
  {
   "cell_type": "code",
   "execution_count": null,
   "id": "bbb3ddd7-d0cf-4257-be59-d6aa79fb953b",
   "metadata": {},
   "outputs": [],
   "source": []
  },
  {
   "cell_type": "markdown",
   "id": "5ccf3dfc-6884-4f59-88a9-664a03e343d7",
   "metadata": {},
   "source": [
    "## Protein"
   ]
  },
  {
   "cell_type": "markdown",
   "id": "867a6b5b-0c61-488b-bf82-73e002116add",
   "metadata": {},
   "source": [
    "### Graph"
   ]
  },
  {
   "cell_type": "code",
   "execution_count": 48,
   "id": "3d06027b-1c86-4c37-b9b5-98424d0e1ad1",
   "metadata": {},
   "outputs": [],
   "source": [
    "import matplotlib.pyplot as plt"
   ]
  },
  {
   "cell_type": "code",
   "execution_count": 112,
   "id": "23a3b90d-9122-4606-9d11-8a6eb05a2996",
   "metadata": {},
   "outputs": [
    {
     "data": {
      "image/png": "[encoded data removed]",
      "text/plain": [
       "<Figure size 1500x1000 with 1 Axes>"
      ]
     },
     "metadata": {},
     "output_type": "display_data"
    }
   ],
   "source": [
    "plt.figure(figsize=(15, 10))\n",
    "\n",
    "plt.plot(tilapia_protein.index, tilapia_protein.predicted_mean)\n",
    "plt.plot(potato_protein.index, potato_protein.predicted_mean)\n",
    "plt.plot(lakatan_protein.index, lakatan_protein.predicted_mean)\n",
    "plt.plot(rice_protein.index, rice_protein.predicted_mean)\n",
    "plt.plot(egg_protein.index, egg_protein.predicted_mean)\n",
    "plt.plot(beef_protein.index, beef_protein.predicted_mean)\n",
    "plt.plot(chicken_protein.index, chicken_protein.predicted_mean)\n",
    "plt.plot(ampalaya_protein.index, ampalaya_protein.predicted_mean)\n",
    "plt.plot(cabbage_protein.index, cabbage_protein.predicted_mean)\n",
    "plt.plot(calamansi_protein.index, calamansi_protein.predicted_mean)\n",
    "plt.plot(carrot_protein.index, carrot_protein.predicted_mean)\n",
    "plt.plot(eggplant_protein.index, eggplant_protein.predicted_mean)\n",
    "plt.plot(mackerel_protein.index, mackerel_protein.predicted_mean)\n",
    "plt.plot(milkfish_protein.index, milkfish_protein.predicted_mean)\n",
    "plt.plot(papaya_protein.index, papaya_protein.predicted_mean)\n",
    "plt.plot(latundan_protein.index, latundan_protein.predicted_mean)\n",
    "plt.plot(roundscad_protein.index, roundscad_protein.predicted_mean)\n",
    "plt.plot(tomato_protein.index, tomato_protein.predicted_mean)\n",
    "\n",
    "plt.legend(\n",
    "    ('tilapia', 'potato', 'lakatan', 'rice', 'egg', 'beef', 'chicken', 'ampalaya',\n",
    "     'cabbage', 'calamansi', 'carrot', 'eggplant', 'mackerel', 'milkfish',\n",
    "     'papaya', 'latundan', 'roundscad', 'tomato'),\n",
    "    fontsize=12,\n",
    "    loc='upper center',\n",
    "    bbox_to_anchor=(0.5, -0.2),\n",
    "    ncol=6\n",
    ")\n",
    "\n",
    "plt.title('Protein Graph per Produce', fontsize=20)\n",
    "plt.ylabel('Protein in Grams per Peso', fontsize=16)\n",
    "\n",
    "plt.tight_layout()\n",
    "plt.show()\n"
   ]
  },
  {
   "cell_type": "markdown",
   "id": "704e4d4b-7bee-4fc6-9168-89004764ac85",
   "metadata": {},
   "source": [
    "### 2025-3 Rankings"
   ]
  },
  {
   "cell_type": "code",
   "execution_count": 52,
   "id": "ccdd64ef-8391-43dd-9315-26030c2ff03e",
   "metadata": {},
   "outputs": [],
   "source": [
    "date = '2025-3-1'"
   ]
  },
  {
   "cell_type": "code",
   "execution_count": 53,
   "id": "6899a0c4-b2ca-484b-8f56-be347637a816",
   "metadata": {},
   "outputs": [],
   "source": [
    "date = '2025-03-01'\n",
    "protein_march = pd.concat([tilapia_protein.loc[[date]], potato_protein.loc[[date]]], ignore_index=True)\n",
    "protein_march = protein_march.sort_values(by='predicted_mean', ascending=False)"
   ]
  },
  {
   "cell_type": "code",
   "execution_count": 54,
   "id": "5129b3b2-2bcc-4b8f-bb66-6a02245a61c7",
   "metadata": {},
   "outputs": [
    {
     "data": {
      "text/html": [
       "<div>\n",
       "<style scoped>\n",
       "    .dataframe tbody tr th:only-of-type {\n",
       "        vertical-align: middle;\n",
       "    }\n",
       "\n",
       "    .dataframe tbody tr th {\n",
       "        vertical-align: top;\n",
       "    }\n",
       "\n",
       "    .dataframe thead th {\n",
       "        text-align: right;\n",
       "    }\n",
       "</style>\n",
       "<table border=\"1\" class=\"dataframe\">\n",
       "  <thead>\n",
       "    <tr style=\"text-align: right;\">\n",
       "      <th></th>\n",
       "      <th>predicted_mean</th>\n",
       "      <th>item</th>\n",
       "    </tr>\n",
       "  </thead>\n",
       "  <tbody>\n",
       "    <tr>\n",
       "      <th>0</th>\n",
       "      <td>1.252326</td>\n",
       "      <td>tilapia</td>\n",
       "    </tr>\n",
       "    <tr>\n",
       "      <th>1</th>\n",
       "      <td>0.601691</td>\n",
       "      <td>potato</td>\n",
       "    </tr>\n",
       "  </tbody>\n",
       "</table>\n",
       "</div>"
      ],
      "text/plain": [
       "   predicted_mean     item\n",
       "0        1.252326  tilapia\n",
       "1        0.601691   potato"
      ]
     },
     "execution_count": 54,
     "metadata": {},
     "output_type": "execute_result"
    }
   ],
   "source": [
    "protein_march"
   ]
  },
  {
   "cell_type": "markdown",
   "id": "4d0e0b0c-9b16-416e-9f99-1b2682617dc1",
   "metadata": {},
   "source": [
    "### 2025-4 Rankings"
   ]
  },
  {
   "cell_type": "code",
   "execution_count": 115,
   "id": "2712f72f-f1d1-47bc-9e2d-936a962e28a3",
   "metadata": {},
   "outputs": [
    {
     "name": "stdout",
     "output_type": "stream",
     "text": [
      "The history saving thread hit an unexpected error (OperationalError('attempt to write a readonly database')).History will not be written to the database.\n"
     ]
    }
   ],
   "source": [
    "date = '2025-4-1'"
   ]
  },
  {
   "cell_type": "code",
   "execution_count": 116,
   "id": "08013dfe-af0b-4a52-8771-283868efb949",
   "metadata": {},
   "outputs": [],
   "source": [
    "date = '2025-04-01'\n",
    "protein_march = pd.concat([tilapia_protein.loc[[date]], potato_protein.loc[[date]]], ignore_index=True)\n",
    "protein_march = protein_march.sort_values(by='predicted_mean', ascending=False)"
   ]
  },
  {
   "cell_type": "code",
   "execution_count": 117,
   "id": "05ded180-44ca-4baf-a13c-4d60f39b84d6",
   "metadata": {},
   "outputs": [
    {
     "data": {
      "text/html": [
       "<div>\n",
       "<style scoped>\n",
       "    .dataframe tbody tr th:only-of-type {\n",
       "        vertical-align: middle;\n",
       "    }\n",
       "\n",
       "    .dataframe tbody tr th {\n",
       "        vertical-align: top;\n",
       "    }\n",
       "\n",
       "    .dataframe thead th {\n",
       "        text-align: right;\n",
       "    }\n",
       "</style>\n",
       "<table border=\"1\" class=\"dataframe\">\n",
       "  <thead>\n",
       "    <tr style=\"text-align: right;\">\n",
       "      <th></th>\n",
       "      <th>predicted_mean</th>\n",
       "      <th>item</th>\n",
       "    </tr>\n",
       "  </thead>\n",
       "  <tbody>\n",
       "    <tr>\n",
       "      <th>0</th>\n",
       "      <td>1.249476</td>\n",
       "      <td>tilapia</td>\n",
       "    </tr>\n",
       "    <tr>\n",
       "      <th>1</th>\n",
       "      <td>0.598067</td>\n",
       "      <td>potato</td>\n",
       "    </tr>\n",
       "  </tbody>\n",
       "</table>\n",
       "</div>"
      ],
      "text/plain": [
       "   predicted_mean     item\n",
       "0        1.249476  tilapia\n",
       "1        0.598067   potato"
      ]
     },
     "execution_count": 117,
     "metadata": {},
     "output_type": "execute_result"
    }
   ],
   "source": [
    "protein_march"
   ]
  },
  {
   "cell_type": "code",
   "execution_count": null,
   "id": "58a662a2-ad08-4f3c-b42d-2f477a1c512e",
   "metadata": {},
   "outputs": [],
   "source": []
  },
  {
   "cell_type": "markdown",
   "id": "bdab4794-c691-46d4-98c0-ae2d9e8a1449",
   "metadata": {},
   "source": [
    "### 2025-3 Rankings"
   ]
  },
  {
   "cell_type": "code",
   "execution_count": 52,
   "id": "b04355a6-11dd-4d7f-9ef9-6ad6c74e054d",
   "metadata": {},
   "outputs": [],
   "source": [
    "date = '2025-3-1'"
   ]
  },
  {
   "cell_type": "code",
   "execution_count": 53,
   "id": "4c15db5c-3f54-40e7-a27f-1a883ceafe65",
   "metadata": {},
   "outputs": [],
   "source": [
    "date = '2025-03-01'\n",
    "protein_march = pd.concat([tilapia_protein.loc[[date]], potato_protein.loc[[date]]], ignore_index=True)\n",
    "protein_march = protein_march.sort_values(by='predicted_mean', ascending=False)"
   ]
  },
  {
   "cell_type": "code",
   "execution_count": 54,
   "id": "e36fb0ba-1a5d-4690-856a-6df3a6591d2f",
   "metadata": {},
   "outputs": [
    {
     "data": {
      "text/html": [
       "<div>\n",
       "<style scoped>\n",
       "    .dataframe tbody tr th:only-of-type {\n",
       "        vertical-align: middle;\n",
       "    }\n",
       "\n",
       "    .dataframe tbody tr th {\n",
       "        vertical-align: top;\n",
       "    }\n",
       "\n",
       "    .dataframe thead th {\n",
       "        text-align: right;\n",
       "    }\n",
       "</style>\n",
       "<table border=\"1\" class=\"dataframe\">\n",
       "  <thead>\n",
       "    <tr style=\"text-align: right;\">\n",
       "      <th></th>\n",
       "      <th>predicted_mean</th>\n",
       "      <th>item</th>\n",
       "    </tr>\n",
       "  </thead>\n",
       "  <tbody>\n",
       "    <tr>\n",
       "      <th>0</th>\n",
       "      <td>1.252326</td>\n",
       "      <td>tilapia</td>\n",
       "    </tr>\n",
       "    <tr>\n",
       "      <th>1</th>\n",
       "      <td>0.601691</td>\n",
       "      <td>potato</td>\n",
       "    </tr>\n",
       "  </tbody>\n",
       "</table>\n",
       "</div>"
      ],
      "text/plain": [
       "   predicted_mean     item\n",
       "0        1.252326  tilapia\n",
       "1        0.601691   potato"
      ]
     },
     "execution_count": 54,
     "metadata": {},
     "output_type": "execute_result"
    }
   ],
   "source": [
    "protein_march"
   ]
  },
  {
   "cell_type": "markdown",
   "id": "61c4617a-ac0c-4ded-a0e3-56de45c12a81",
   "metadata": {},
   "source": [
    "### 2025-3 Rankings"
   ]
  },
  {
   "cell_type": "code",
   "execution_count": 52,
   "id": "e33cb7f4-f23f-4a6a-aefa-1c607c4e6f7a",
   "metadata": {},
   "outputs": [],
   "source": [
    "date = '2025-3-1'"
   ]
  },
  {
   "cell_type": "code",
   "execution_count": 53,
   "id": "cafc26fa-a5eb-4176-8d57-6b70fb674003",
   "metadata": {},
   "outputs": [],
   "source": [
    "date = '2025-03-01'\n",
    "protein_march = pd.concat([tilapia_protein.loc[[date]], potato_protein.loc[[date]]], ignore_index=True)\n",
    "protein_march = protein_march.sort_values(by='predicted_mean', ascending=False)"
   ]
  },
  {
   "cell_type": "code",
   "execution_count": 54,
   "id": "3428b5e4-08d2-4054-98a3-0e2e90623a6c",
   "metadata": {},
   "outputs": [
    {
     "data": {
      "text/html": [
       "<div>\n",
       "<style scoped>\n",
       "    .dataframe tbody tr th:only-of-type {\n",
       "        vertical-align: middle;\n",
       "    }\n",
       "\n",
       "    .dataframe tbody tr th {\n",
       "        vertical-align: top;\n",
       "    }\n",
       "\n",
       "    .dataframe thead th {\n",
       "        text-align: right;\n",
       "    }\n",
       "</style>\n",
       "<table border=\"1\" class=\"dataframe\">\n",
       "  <thead>\n",
       "    <tr style=\"text-align: right;\">\n",
       "      <th></th>\n",
       "      <th>predicted_mean</th>\n",
       "      <th>item</th>\n",
       "    </tr>\n",
       "  </thead>\n",
       "  <tbody>\n",
       "    <tr>\n",
       "      <th>0</th>\n",
       "      <td>1.252326</td>\n",
       "      <td>tilapia</td>\n",
       "    </tr>\n",
       "    <tr>\n",
       "      <th>1</th>\n",
       "      <td>0.601691</td>\n",
       "      <td>potato</td>\n",
       "    </tr>\n",
       "  </tbody>\n",
       "</table>\n",
       "</div>"
      ],
      "text/plain": [
       "   predicted_mean     item\n",
       "0        1.252326  tilapia\n",
       "1        0.601691   potato"
      ]
     },
     "execution_count": 54,
     "metadata": {},
     "output_type": "execute_result"
    }
   ],
   "source": [
    "protein_march"
   ]
  },
  {
   "cell_type": "markdown",
   "id": "0afe6eb0-486c-4e0c-991d-d6690cc8105b",
   "metadata": {},
   "source": [
    "### 2025-3 Rankings"
   ]
  },
  {
   "cell_type": "code",
   "execution_count": 52,
   "id": "4e1bd16a-294a-444b-bf8e-565858f70cb6",
   "metadata": {},
   "outputs": [],
   "source": [
    "date = '2025-3-1'"
   ]
  },
  {
   "cell_type": "code",
   "execution_count": 53,
   "id": "c50f412a-8d7c-4fe8-8fb0-6b26d0a98be9",
   "metadata": {},
   "outputs": [],
   "source": [
    "date = '2025-03-01'\n",
    "protein_march = pd.concat([tilapia_protein.loc[[date]], potato_protein.loc[[date]]], ignore_index=True)\n",
    "protein_march = protein_march.sort_values(by='predicted_mean', ascending=False)"
   ]
  },
  {
   "cell_type": "code",
   "execution_count": 54,
   "id": "59cf0950-1d76-4661-9910-a52401abf419",
   "metadata": {},
   "outputs": [
    {
     "data": {
      "text/html": [
       "<div>\n",
       "<style scoped>\n",
       "    .dataframe tbody tr th:only-of-type {\n",
       "        vertical-align: middle;\n",
       "    }\n",
       "\n",
       "    .dataframe tbody tr th {\n",
       "        vertical-align: top;\n",
       "    }\n",
       "\n",
       "    .dataframe thead th {\n",
       "        text-align: right;\n",
       "    }\n",
       "</style>\n",
       "<table border=\"1\" class=\"dataframe\">\n",
       "  <thead>\n",
       "    <tr style=\"text-align: right;\">\n",
       "      <th></th>\n",
       "      <th>predicted_mean</th>\n",
       "      <th>item</th>\n",
       "    </tr>\n",
       "  </thead>\n",
       "  <tbody>\n",
       "    <tr>\n",
       "      <th>0</th>\n",
       "      <td>1.252326</td>\n",
       "      <td>tilapia</td>\n",
       "    </tr>\n",
       "    <tr>\n",
       "      <th>1</th>\n",
       "      <td>0.601691</td>\n",
       "      <td>potato</td>\n",
       "    </tr>\n",
       "  </tbody>\n",
       "</table>\n",
       "</div>"
      ],
      "text/plain": [
       "   predicted_mean     item\n",
       "0        1.252326  tilapia\n",
       "1        0.601691   potato"
      ]
     },
     "execution_count": 54,
     "metadata": {},
     "output_type": "execute_result"
    }
   ],
   "source": [
    "protein_march"
   ]
  },
  {
   "cell_type": "markdown",
   "id": "ddaed8b5-0f4e-474f-8d27-bbc6b8e5f63f",
   "metadata": {},
   "source": [
    "### 2025-3 Rankings"
   ]
  },
  {
   "cell_type": "code",
   "execution_count": 52,
   "id": "6fb0d4dd-1b7b-4654-b90b-ed7dc221d171",
   "metadata": {},
   "outputs": [],
   "source": [
    "date = '2025-3-1'"
   ]
  },
  {
   "cell_type": "code",
   "execution_count": 53,
   "id": "8bdfc8f2-9229-4514-953c-4ac25c275dfa",
   "metadata": {},
   "outputs": [],
   "source": [
    "date = '2025-03-01'\n",
    "protein_march = pd.concat([tilapia_protein.loc[[date]], potato_protein.loc[[date]]], ignore_index=True)\n",
    "protein_march = protein_march.sort_values(by='predicted_mean', ascending=False)"
   ]
  },
  {
   "cell_type": "code",
   "execution_count": 54,
   "id": "ec9c8c90-1cd9-4978-a425-6f16588d80ce",
   "metadata": {},
   "outputs": [
    {
     "data": {
      "text/html": [
       "<div>\n",
       "<style scoped>\n",
       "    .dataframe tbody tr th:only-of-type {\n",
       "        vertical-align: middle;\n",
       "    }\n",
       "\n",
       "    .dataframe tbody tr th {\n",
       "        vertical-align: top;\n",
       "    }\n",
       "\n",
       "    .dataframe thead th {\n",
       "        text-align: right;\n",
       "    }\n",
       "</style>\n",
       "<table border=\"1\" class=\"dataframe\">\n",
       "  <thead>\n",
       "    <tr style=\"text-align: right;\">\n",
       "      <th></th>\n",
       "      <th>predicted_mean</th>\n",
       "      <th>item</th>\n",
       "    </tr>\n",
       "  </thead>\n",
       "  <tbody>\n",
       "    <tr>\n",
       "      <th>0</th>\n",
       "      <td>1.252326</td>\n",
       "      <td>tilapia</td>\n",
       "    </tr>\n",
       "    <tr>\n",
       "      <th>1</th>\n",
       "      <td>0.601691</td>\n",
       "      <td>potato</td>\n",
       "    </tr>\n",
       "  </tbody>\n",
       "</table>\n",
       "</div>"
      ],
      "text/plain": [
       "   predicted_mean     item\n",
       "0        1.252326  tilapia\n",
       "1        0.601691   potato"
      ]
     },
     "execution_count": 54,
     "metadata": {},
     "output_type": "execute_result"
    }
   ],
   "source": [
    "protein_march"
   ]
  },
  {
   "cell_type": "markdown",
   "id": "390e8ee0-64bf-49ef-a23f-06f80a3d5b8c",
   "metadata": {},
   "source": [
    "### 2025-3 Rankings"
   ]
  },
  {
   "cell_type": "code",
   "execution_count": 52,
   "id": "717935d6-b7cd-4e2e-a04d-21585f113e72",
   "metadata": {},
   "outputs": [],
   "source": [
    "date = '2025-3-1'"
   ]
  },
  {
   "cell_type": "code",
   "execution_count": 53,
   "id": "946a425f-97dd-4d21-9455-b1e975c42d2f",
   "metadata": {},
   "outputs": [],
   "source": [
    "date = '2025-03-01'\n",
    "protein_march = pd.concat([tilapia_protein.loc[[date]], potato_protein.loc[[date]]], ignore_index=True)\n",
    "protein_march = protein_march.sort_values(by='predicted_mean', ascending=False)"
   ]
  },
  {
   "cell_type": "code",
   "execution_count": 54,
   "id": "22210b88-5da0-440a-827b-6b16f5b1fe9b",
   "metadata": {},
   "outputs": [
    {
     "data": {
      "text/html": [
       "<div>\n",
       "<style scoped>\n",
       "    .dataframe tbody tr th:only-of-type {\n",
       "        vertical-align: middle;\n",
       "    }\n",
       "\n",
       "    .dataframe tbody tr th {\n",
       "        vertical-align: top;\n",
       "    }\n",
       "\n",
       "    .dataframe thead th {\n",
       "        text-align: right;\n",
       "    }\n",
       "</style>\n",
       "<table border=\"1\" class=\"dataframe\">\n",
       "  <thead>\n",
       "    <tr style=\"text-align: right;\">\n",
       "      <th></th>\n",
       "      <th>predicted_mean</th>\n",
       "      <th>item</th>\n",
       "    </tr>\n",
       "  </thead>\n",
       "  <tbody>\n",
       "    <tr>\n",
       "      <th>0</th>\n",
       "      <td>1.252326</td>\n",
       "      <td>tilapia</td>\n",
       "    </tr>\n",
       "    <tr>\n",
       "      <th>1</th>\n",
       "      <td>0.601691</td>\n",
       "      <td>potato</td>\n",
       "    </tr>\n",
       "  </tbody>\n",
       "</table>\n",
       "</div>"
      ],
      "text/plain": [
       "   predicted_mean     item\n",
       "0        1.252326  tilapia\n",
       "1        0.601691   potato"
      ]
     },
     "execution_count": 54,
     "metadata": {},
     "output_type": "execute_result"
    }
   ],
   "source": [
    "protein_march"
   ]
  },
  {
   "cell_type": "markdown",
   "id": "8acb2698-98b8-4ed8-85c8-ea5b3f6873cf",
   "metadata": {},
   "source": [
    "### 2025-3 Rankings"
   ]
  },
  {
   "cell_type": "code",
   "execution_count": 52,
   "id": "5b700b06-e368-469a-a8cd-172d24cfe4fe",
   "metadata": {},
   "outputs": [],
   "source": [
    "date = '2025-3-1'"
   ]
  },
  {
   "cell_type": "code",
   "execution_count": 53,
   "id": "8062ffd8-c7e0-4364-b4b1-e2246d925f98",
   "metadata": {},
   "outputs": [],
   "source": [
    "date = '2025-03-01'\n",
    "protein_march = pd.concat([tilapia_protein.loc[[date]], potato_protein.loc[[date]]], ignore_index=True)\n",
    "protein_march = protein_march.sort_values(by='predicted_mean', ascending=False)"
   ]
  },
  {
   "cell_type": "code",
   "execution_count": 54,
   "id": "4f5d776b-28b8-4a9a-a75a-224bb2f4be05",
   "metadata": {},
   "outputs": [
    {
     "data": {
      "text/html": [
       "<div>\n",
       "<style scoped>\n",
       "    .dataframe tbody tr th:only-of-type {\n",
       "        vertical-align: middle;\n",
       "    }\n",
       "\n",
       "    .dataframe tbody tr th {\n",
       "        vertical-align: top;\n",
       "    }\n",
       "\n",
       "    .dataframe thead th {\n",
       "        text-align: right;\n",
       "    }\n",
       "</style>\n",
       "<table border=\"1\" class=\"dataframe\">\n",
       "  <thead>\n",
       "    <tr style=\"text-align: right;\">\n",
       "      <th></th>\n",
       "      <th>predicted_mean</th>\n",
       "      <th>item</th>\n",
       "    </tr>\n",
       "  </thead>\n",
       "  <tbody>\n",
       "    <tr>\n",
       "      <th>0</th>\n",
       "      <td>1.252326</td>\n",
       "      <td>tilapia</td>\n",
       "    </tr>\n",
       "    <tr>\n",
       "      <th>1</th>\n",
       "      <td>0.601691</td>\n",
       "      <td>potato</td>\n",
       "    </tr>\n",
       "  </tbody>\n",
       "</table>\n",
       "</div>"
      ],
      "text/plain": [
       "   predicted_mean     item\n",
       "0        1.252326  tilapia\n",
       "1        0.601691   potato"
      ]
     },
     "execution_count": 54,
     "metadata": {},
     "output_type": "execute_result"
    }
   ],
   "source": [
    "protein_march"
   ]
  },
  {
   "cell_type": "markdown",
   "id": "0eeea09a-c40a-4f3e-8216-8bfc5d440fcc",
   "metadata": {},
   "source": [
    "### 2025-3 Rankings"
   ]
  },
  {
   "cell_type": "code",
   "execution_count": 52,
   "id": "dff9bb6b-c6cd-4b01-9923-893bb3ae107b",
   "metadata": {},
   "outputs": [],
   "source": [
    "date = '2025-3-1'"
   ]
  },
  {
   "cell_type": "code",
   "execution_count": 53,
   "id": "c111c46c-20e8-4c95-8f2b-4907c2915468",
   "metadata": {},
   "outputs": [],
   "source": [
    "date = '2025-03-01'\n",
    "protein_march = pd.concat([tilapia_protein.loc[[date]], potato_protein.loc[[date]]], ignore_index=True)\n",
    "protein_march = protein_march.sort_values(by='predicted_mean', ascending=False)"
   ]
  },
  {
   "cell_type": "code",
   "execution_count": 54,
   "id": "6c5f0b33-e501-49dc-8df8-fdee37422cee",
   "metadata": {},
   "outputs": [
    {
     "data": {
      "text/html": [
       "<div>\n",
       "<style scoped>\n",
       "    .dataframe tbody tr th:only-of-type {\n",
       "        vertical-align: middle;\n",
       "    }\n",
       "\n",
       "    .dataframe tbody tr th {\n",
       "        vertical-align: top;\n",
       "    }\n",
       "\n",
       "    .dataframe thead th {\n",
       "        text-align: right;\n",
       "    }\n",
       "</style>\n",
       "<table border=\"1\" class=\"dataframe\">\n",
       "  <thead>\n",
       "    <tr style=\"text-align: right;\">\n",
       "      <th></th>\n",
       "      <th>predicted_mean</th>\n",
       "      <th>item</th>\n",
       "    </tr>\n",
       "  </thead>\n",
       "  <tbody>\n",
       "    <tr>\n",
       "      <th>0</th>\n",
       "      <td>1.252326</td>\n",
       "      <td>tilapia</td>\n",
       "    </tr>\n",
       "    <tr>\n",
       "      <th>1</th>\n",
       "      <td>0.601691</td>\n",
       "      <td>potato</td>\n",
       "    </tr>\n",
       "  </tbody>\n",
       "</table>\n",
       "</div>"
      ],
      "text/plain": [
       "   predicted_mean     item\n",
       "0        1.252326  tilapia\n",
       "1        0.601691   potato"
      ]
     },
     "execution_count": 54,
     "metadata": {},
     "output_type": "execute_result"
    }
   ],
   "source": [
    "protein_march"
   ]
  },
  {
   "cell_type": "markdown",
   "id": "c56fc34c-3c60-4b0f-abc3-922f5fa6676e",
   "metadata": {},
   "source": [
    "### 2025-3 Rankings"
   ]
  },
  {
   "cell_type": "code",
   "execution_count": 52,
   "id": "709e9b16-295f-4b45-a3f6-29f0f6497e98",
   "metadata": {},
   "outputs": [],
   "source": [
    "date = '2025-3-1'"
   ]
  },
  {
   "cell_type": "code",
   "execution_count": 53,
   "id": "0d764e11-b9dc-4e57-bac2-06c11dfcd5fb",
   "metadata": {},
   "outputs": [],
   "source": [
    "date = '2025-03-01'\n",
    "protein_march = pd.concat([tilapia_protein.loc[[date]], potato_protein.loc[[date]]], ignore_index=True)\n",
    "protein_march = protein_march.sort_values(by='predicted_mean', ascending=False)"
   ]
  },
  {
   "cell_type": "code",
   "execution_count": 54,
   "id": "61606f93-e2c0-461b-92d2-b27709ec3348",
   "metadata": {},
   "outputs": [
    {
     "data": {
      "text/html": [
       "<div>\n",
       "<style scoped>\n",
       "    .dataframe tbody tr th:only-of-type {\n",
       "        vertical-align: middle;\n",
       "    }\n",
       "\n",
       "    .dataframe tbody tr th {\n",
       "        vertical-align: top;\n",
       "    }\n",
       "\n",
       "    .dataframe thead th {\n",
       "        text-align: right;\n",
       "    }\n",
       "</style>\n",
       "<table border=\"1\" class=\"dataframe\">\n",
       "  <thead>\n",
       "    <tr style=\"text-align: right;\">\n",
       "      <th></th>\n",
       "      <th>predicted_mean</th>\n",
       "      <th>item</th>\n",
       "    </tr>\n",
       "  </thead>\n",
       "  <tbody>\n",
       "    <tr>\n",
       "      <th>0</th>\n",
       "      <td>1.252326</td>\n",
       "      <td>tilapia</td>\n",
       "    </tr>\n",
       "    <tr>\n",
       "      <th>1</th>\n",
       "      <td>0.601691</td>\n",
       "      <td>potato</td>\n",
       "    </tr>\n",
       "  </tbody>\n",
       "</table>\n",
       "</div>"
      ],
      "text/plain": [
       "   predicted_mean     item\n",
       "0        1.252326  tilapia\n",
       "1        0.601691   potato"
      ]
     },
     "execution_count": 54,
     "metadata": {},
     "output_type": "execute_result"
    }
   ],
   "source": [
    "protein_march"
   ]
  },
  {
   "cell_type": "markdown",
   "id": "a495fcce-e2af-4ead-84d5-9bfb34d347f4",
   "metadata": {},
   "source": [
    "### 2025-3 Rankings"
   ]
  },
  {
   "cell_type": "code",
   "execution_count": 52,
   "id": "22569b1f-fa00-4e21-b596-3bd0f1558e2b",
   "metadata": {},
   "outputs": [],
   "source": [
    "date = '2025-3-1'"
   ]
  },
  {
   "cell_type": "code",
   "execution_count": 53,
   "id": "a5bc9cb2-6441-40cd-b229-3689b2d9ddb9",
   "metadata": {},
   "outputs": [],
   "source": [
    "date = '2025-03-01'\n",
    "protein_march = pd.concat([tilapia_protein.loc[[date]], potato_protein.loc[[date]]], ignore_index=True)\n",
    "protein_march = protein_march.sort_values(by='predicted_mean', ascending=False)"
   ]
  },
  {
   "cell_type": "code",
   "execution_count": 54,
   "id": "2d93221b-9ae5-4e5a-bd3f-486e4a50c6e7",
   "metadata": {},
   "outputs": [
    {
     "data": {
      "text/html": [
       "<div>\n",
       "<style scoped>\n",
       "    .dataframe tbody tr th:only-of-type {\n",
       "        vertical-align: middle;\n",
       "    }\n",
       "\n",
       "    .dataframe tbody tr th {\n",
       "        vertical-align: top;\n",
       "    }\n",
       "\n",
       "    .dataframe thead th {\n",
       "        text-align: right;\n",
       "    }\n",
       "</style>\n",
       "<table border=\"1\" class=\"dataframe\">\n",
       "  <thead>\n",
       "    <tr style=\"text-align: right;\">\n",
       "      <th></th>\n",
       "      <th>predicted_mean</th>\n",
       "      <th>item</th>\n",
       "    </tr>\n",
       "  </thead>\n",
       "  <tbody>\n",
       "    <tr>\n",
       "      <th>0</th>\n",
       "      <td>1.252326</td>\n",
       "      <td>tilapia</td>\n",
       "    </tr>\n",
       "    <tr>\n",
       "      <th>1</th>\n",
       "      <td>0.601691</td>\n",
       "      <td>potato</td>\n",
       "    </tr>\n",
       "  </tbody>\n",
       "</table>\n",
       "</div>"
      ],
      "text/plain": [
       "   predicted_mean     item\n",
       "0        1.252326  tilapia\n",
       "1        0.601691   potato"
      ]
     },
     "execution_count": 54,
     "metadata": {},
     "output_type": "execute_result"
    }
   ],
   "source": [
    "protein_march"
   ]
  },
  {
   "cell_type": "markdown",
   "id": "745fec26-2fd5-4da1-90fd-f79755097ecc",
   "metadata": {},
   "source": [
    "### 2025-3 Rankings"
   ]
  },
  {
   "cell_type": "code",
   "execution_count": 52,
   "id": "bef04bf0-9354-4557-b259-e524afdc01b4",
   "metadata": {},
   "outputs": [],
   "source": [
    "date = '2025-3-1'"
   ]
  },
  {
   "cell_type": "code",
   "execution_count": 53,
   "id": "3aa53a68-568b-4b57-8f9b-e999ac929c66",
   "metadata": {},
   "outputs": [],
   "source": [
    "date = '2025-03-01'\n",
    "protein_march = pd.concat([tilapia_protein.loc[[date]], potato_protein.loc[[date]]], ignore_index=True)\n",
    "protein_march = protein_march.sort_values(by='predicted_mean', ascending=False)"
   ]
  },
  {
   "cell_type": "code",
   "execution_count": 54,
   "id": "3950ceef-e0a3-4710-bee6-0a2c3f62c516",
   "metadata": {},
   "outputs": [
    {
     "data": {
      "text/html": [
       "<div>\n",
       "<style scoped>\n",
       "    .dataframe tbody tr th:only-of-type {\n",
       "        vertical-align: middle;\n",
       "    }\n",
       "\n",
       "    .dataframe tbody tr th {\n",
       "        vertical-align: top;\n",
       "    }\n",
       "\n",
       "    .dataframe thead th {\n",
       "        text-align: right;\n",
       "    }\n",
       "</style>\n",
       "<table border=\"1\" class=\"dataframe\">\n",
       "  <thead>\n",
       "    <tr style=\"text-align: right;\">\n",
       "      <th></th>\n",
       "      <th>predicted_mean</th>\n",
       "      <th>item</th>\n",
       "    </tr>\n",
       "  </thead>\n",
       "  <tbody>\n",
       "    <tr>\n",
       "      <th>0</th>\n",
       "      <td>1.252326</td>\n",
       "      <td>tilapia</td>\n",
       "    </tr>\n",
       "    <tr>\n",
       "      <th>1</th>\n",
       "      <td>0.601691</td>\n",
       "      <td>potato</td>\n",
       "    </tr>\n",
       "  </tbody>\n",
       "</table>\n",
       "</div>"
      ],
      "text/plain": [
       "   predicted_mean     item\n",
       "0        1.252326  tilapia\n",
       "1        0.601691   potato"
      ]
     },
     "execution_count": 54,
     "metadata": {},
     "output_type": "execute_result"
    }
   ],
   "source": [
    "protein_march"
   ]
  },
  {
   "cell_type": "code",
   "execution_count": null,
   "id": "4ddd9c16-b04d-427c-b374-c6dd72d5ed49",
   "metadata": {},
   "outputs": [],
   "source": []
  },
  {
   "cell_type": "code",
   "execution_count": null,
   "id": "ff400b3f-a881-486b-89de-7a8324905208",
   "metadata": {},
   "outputs": [],
   "source": []
  },
  {
   "cell_type": "code",
   "execution_count": null,
   "id": "71bf8576-3169-453b-b327-b1b51f531f8f",
   "metadata": {},
   "outputs": [],
   "source": []
  },
  {
   "cell_type": "code",
   "execution_count": null,
   "id": "154a4139-b182-455d-a3b4-0ed7e4ef7258",
   "metadata": {},
   "outputs": [],
   "source": []
  },
  {
   "cell_type": "code",
   "execution_count": null,
   "id": "ea923f6d-656b-4cb7-a418-5c0d8277c38c",
   "metadata": {},
   "outputs": [],
   "source": []
  },
  {
   "cell_type": "code",
   "execution_count": null,
   "id": "648a9320-767b-435f-9e65-535e89602b6e",
   "metadata": {},
   "outputs": [],
   "source": []
  },
  {
   "cell_type": "code",
   "execution_count": null,
   "id": "4d7cf642-c9d9-4ae9-b579-7d7da4a67102",
   "metadata": {},
   "outputs": [],
   "source": []
  },
  {
   "cell_type": "code",
   "execution_count": null,
   "id": "652efa07-1323-46b6-9f38-feb3b2909262",
   "metadata": {},
   "outputs": [],
   "source": []
  },
  {
   "cell_type": "code",
   "execution_count": null,
   "id": "31e7bdc0-4948-4ace-a67a-4fc1a332e510",
   "metadata": {},
   "outputs": [],
   "source": []
  },
  {
   "cell_type": "code",
   "execution_count": null,
   "id": "9abddcaa-b87f-4169-a26f-66d393c2f677",
   "metadata": {},
   "outputs": [],
   "source": []
  },
  {
   "cell_type": "code",
   "execution_count": null,
   "id": "c6706cdd-4d9a-41a2-9b8a-bfee71f1bd2d",
   "metadata": {},
   "outputs": [],
   "source": []
  },
  {
   "cell_type": "markdown",
   "id": "90acb05a-5f24-4ca6-90f5-5c9c21a41411",
   "metadata": {},
   "source": [
    "## Fiber"
   ]
  },
  {
   "cell_type": "markdown",
   "id": "93b86f2b-47ae-4631-9ebb-5efd116af114",
   "metadata": {},
   "source": [
    "### Graph"
   ]
  },
  {
   "cell_type": "code",
   "execution_count": 113,
   "id": "c5790682-8486-43ed-add8-686b9a37a903",
   "metadata": {},
   "outputs": [
    {
     "data": {
      "image/png": "[encoded data removed]",
      "text/plain": [
       "<Figure size 1500x1000 with 1 Axes>"
      ]
     },
     "metadata": {},
     "output_type": "display_data"
    }
   ],
   "source": [
    "plt.figure(figsize=(15, 10))\n",
    "\n",
    "plt.plot(tilapia_fiber.index, tilapia_fiber.predicted_mean)\n",
    "plt.plot(potato_fiber.index, potato_fiber.predicted_mean)\n",
    "plt.plot(lakatan_fiber.index, lakatan_fiber.predicted_mean)\n",
    "plt.plot(rice_fiber.index, rice_fiber.predicted_mean)\n",
    "plt.plot(egg_fiber.index, egg_fiber.predicted_mean)\n",
    "plt.plot(beef_fiber.index, beef_fiber.predicted_mean)\n",
    "plt.plot(chicken_fiber.index, chicken_fiber.predicted_mean)\n",
    "plt.plot(ampalaya_fiber.index, ampalaya_fiber.predicted_mean)\n",
    "plt.plot(cabbage_fiber.index, cabbage_fiber.predicted_mean)\n",
    "plt.plot(calamansi_fiber.index, calamansi_fiber.predicted_mean)\n",
    "plt.plot(carrot_fiber.index, carrot_fiber.predicted_mean)\n",
    "plt.plot(eggplant_fiber.index, eggplant_fiber.predicted_mean)\n",
    "plt.plot(mackerel_fiber.index, mackerel_fiber.predicted_mean)\n",
    "plt.plot(milkfish_fiber.index, milkfish_fiber.predicted_mean)\n",
    "plt.plot(papaya_fiber.index, papaya_fiber.predicted_mean)\n",
    "plt.plot(latundan_fiber.index, latundan_fiber.predicted_mean)\n",
    "plt.plot(roundscad_fiber.index, roundscad_fiber.predicted_mean)\n",
    "plt.plot(tomato_fiber.index, tomato_fiber.predicted_mean)\n",
    "\n",
    "plt.legend(\n",
    "    ('tilapia', 'potato', 'lakatan', 'rice', 'egg', 'beef', 'chicken', 'ampalaya',\n",
    "     'cabbage', 'calamansi', 'carrot', 'eggplant', 'mackerel', 'milkfish',\n",
    "     'papaya', 'latundan', 'roundscad', 'tomato'),\n",
    "    fontsize=12,\n",
    "    loc='upper center',\n",
    "    bbox_to_anchor=(0.5, -0.2),\n",
    "    ncol=6\n",
    ")\n",
    "\n",
    "plt.title('Fiber Graph per Produce', fontsize=20)\n",
    "plt.ylabel('Fiber in Grams per Peso', fontsize=16)\n",
    "\n",
    "plt.tight_layout()\n",
    "plt.show()\n"
   ]
  },
  {
   "cell_type": "markdown",
   "id": "654fcec1-91c4-480c-922b-3f9841431dbe",
   "metadata": {},
   "source": [
    "### 2025-3 Rankings"
   ]
  },
  {
   "cell_type": "code",
   "execution_count": 28,
   "id": "81ebfc88-73ba-41d8-83bc-87100e5ab8ab",
   "metadata": {},
   "outputs": [],
   "source": [
    "date = '2025-03-01'\n",
    "fiber_march = pd.concat([tilapia_fiber.loc[[date]], potato_fiber.loc[[date]]], ignore_index=True)\n",
    "fiber_march = fiber_march.sort_values(by='predicted_mean', ascending=False)"
   ]
  },
  {
   "cell_type": "code",
   "execution_count": 29,
   "id": "79d9c76a-db09-4e7f-9d25-dc6d45042822",
   "metadata": {},
   "outputs": [
    {
     "data": {
      "text/html": [
       "<div>\n",
       "<style scoped>\n",
       "    .dataframe tbody tr th:only-of-type {\n",
       "        vertical-align: middle;\n",
       "    }\n",
       "\n",
       "    .dataframe tbody tr th {\n",
       "        vertical-align: top;\n",
       "    }\n",
       "\n",
       "    .dataframe thead th {\n",
       "        text-align: right;\n",
       "    }\n",
       "</style>\n",
       "<table border=\"1\" class=\"dataframe\">\n",
       "  <thead>\n",
       "    <tr style=\"text-align: right;\">\n",
       "      <th></th>\n",
       "      <th>predicted_mean</th>\n",
       "      <th>item</th>\n",
       "    </tr>\n",
       "  </thead>\n",
       "  <tbody>\n",
       "    <tr>\n",
       "      <th>1</th>\n",
       "      <td>0.614303</td>\n",
       "      <td>potato</td>\n",
       "    </tr>\n",
       "    <tr>\n",
       "      <th>0</th>\n",
       "      <td>0.000000</td>\n",
       "      <td>tilapia</td>\n",
       "    </tr>\n",
       "  </tbody>\n",
       "</table>\n",
       "</div>"
      ],
      "text/plain": [
       "   predicted_mean     item\n",
       "1        0.614303   potato\n",
       "0        0.000000  tilapia"
      ]
     },
     "execution_count": 29,
     "metadata": {},
     "output_type": "execute_result"
    }
   ],
   "source": [
    "fiber_march"
   ]
  },
  {
   "cell_type": "code",
   "execution_count": 30,
   "id": "d7cd5213-3227-4d2f-b067-42be666da1e5",
   "metadata": {},
   "outputs": [],
   "source": [
    "# Monthly Rankings"
   ]
  },
  {
   "cell_type": "code",
   "execution_count": null,
   "id": "84d4179a-d0c3-4f77-ab7e-fcde8eea18a3",
   "metadata": {},
   "outputs": [],
   "source": []
  },
  {
   "cell_type": "markdown",
   "id": "e2b3b086-f2d2-4957-ac69-2a571790e923",
   "metadata": {},
   "source": [
    "## Fats"
   ]
  },
  {
   "cell_type": "code",
   "execution_count": 31,
   "id": "8ad29aae-f2a6-4dab-9419-7113a16f55fd",
   "metadata": {},
   "outputs": [],
   "source": [
    "plt.figure(figsize=(15, 10))\n",
    "\n",
    "plt.plot(tilapia_fats.index, tilapia_fats.predicted_mean)\n",
    "plt.plot(potato_fats.index, potato_fats.predicted_mean)\n",
    "plt.plot(lakatan_fats.index, lakatan_fats.predicted_mean)\n",
    "plt.plot(rice_fats.index, rice_fats.predicted_mean)\n",
    "plt.plot(egg_fats.index, egg_fats.predicted_mean)\n",
    "plt.plot(beef_fats.index, beef_fats.predicted_mean)\n",
    "plt.plot(chicken_fats.index, chicken_fats.predicted_mean)\n",
    "plt.plot(ampalaya_fats.index, ampalaya_fats.predicted_mean)\n",
    "plt.plot(cabbage_fats.index, cabbage_fats.predicted_mean)\n",
    "plt.plot(calamansi_fats.index, calamansi_fats.predicted_mean)\n",
    "plt.plot(carrot_fats.index, carrot_fats.predicted_mean)\n",
    "plt.plot(eggplant_fats.index, eggplant_fats.predicted_mean)\n",
    "plt.plot(mackerel_fats.index, mackerel_fats.predicted_mean)\n",
    "plt.plot(milkfish_fats.index, milkfish_fats.predicted_mean)\n",
    "plt.plot(papaya_fats.index, papaya_fats.predicted_mean)\n",
    "plt.plot(latundan_fats.index, latundan_fats.predicted_mean)\n",
    "plt.plot(roundscad_fats.index, roundscad_fats.predicted_mean)\n",
    "plt.plot(tomato_fats.index, tomato_fats.predicted_mean)\n",
    "\n",
    "plt.legend(\n",
    "    ('tilapia', 'potato', 'lakatan', 'rice', 'egg', 'beef', 'chicken', 'ampalaya',\n",
    "     'cabbage', 'calamansi', 'carrot', 'eggplant', 'mackerel', 'milkfish',\n",
    "     'papaya', 'latundan', 'roundscad', 'tomato'),\n",
    "    fontsize=12,\n",
    "    loc='upper center',\n",
    "    bbox_to_anchor=(0.5, -0.2),\n",
    "    ncol=6\n",
    ")\n",
    "\n",
    "plt.title('Fats Graph per Produce', fontsize=20)\n",
    "plt.ylabel('Fats in Grams per Peso', fontsize=16)\n",
    "\n",
    "plt.tight_layout()\n",
    "plt.show()\n"
   ]
  },
  {
   "cell_type": "code",
   "execution_count": 32,
   "id": "a01d9647-40dc-4e7b-986a-5ae82943ab01",
   "metadata": {},
   "outputs": [],
   "source": [
    "# Monthly Rankings"
   ]
  },
  {
   "cell_type": "code",
   "execution_count": null,
   "id": "5f56d8a5-ef58-45ac-a955-864e2de25772",
   "metadata": {},
   "outputs": [],
   "source": []
  },
  {
   "cell_type": "markdown",
   "id": "6a20afcd-2de4-4a5d-a8d3-7548ab2bf651",
   "metadata": {},
   "source": [
    "## Carbohydrates"
   ]
  },
  {
   "cell_type": "code",
   "execution_count": 114,
   "id": "13716277-e3aa-4e9b-b79a-eb053f7b0ff2",
   "metadata": {},
   "outputs": [
    {
     "data": {
      "image/png": "[encoded data removed]",
      "text/plain": [
       "<Figure size 1500x1000 with 1 Axes>"
      ]
     },
     "metadata": {},
     "output_type": "display_data"
    }
   ],
   "source": [
    "plt.figure(figsize=(15, 10))\n",
    "\n",
    "plt.plot(tilapia_fiber.index, tilapia_fiber.predicted_mean)\n",
    "plt.plot(potato_fiber.index, potato_fiber.predicted_mean)\n",
    "plt.plot(lakatan_fiber.index, lakatan_fiber.predicted_mean)\n",
    "plt.plot(rice_fiber.index, rice_fiber.predicted_mean)\n",
    "plt.plot(egg_fiber.index, egg_fiber.predicted_mean)\n",
    "plt.plot(beef_fiber.index, beef_fiber.predicted_mean)\n",
    "plt.plot(chicken_fiber.index, chicken_fiber.predicted_mean)\n",
    "plt.plot(ampalaya_fiber.index, ampalaya_fiber.predicted_mean)\n",
    "plt.plot(cabbage_fiber.index, cabbage_fiber.predicted_mean)\n",
    "plt.plot(calamansi_fiber.index, calamansi_fiber.predicted_mean)\n",
    "plt.plot(carrot_fiber.index, carrot_fiber.predicted_mean)\n",
    "plt.plot(eggplant_fiber.index, eggplant_fiber.predicted_mean)\n",
    "plt.plot(mackerel_fiber.index, mackerel_fiber.predicted_mean)\n",
    "plt.plot(milkfish_fiber.index, milkfish_fiber.predicted_mean)\n",
    "plt.plot(papaya_fiber.index, papaya_fiber.predicted_mean)\n",
    "plt.plot(latundan_fiber.index, latundan_fiber.predicted_mean)\n",
    "plt.plot(roundscad_fiber.index, roundscad_fiber.predicted_mean)\n",
    "plt.plot(tomato_fiber.index, tomato_fiber.predicted_mean)\n",
    "\n",
    "plt.legend(\n",
    "    ('tilapia', 'potato', 'lakatan', 'rice', 'egg', 'beef', 'chicken', 'ampalaya',\n",
    "     'cabbage', 'calamansi', 'carrot', 'eggplant', 'mackerel', 'milkfish',\n",
    "     'papaya', 'latundan', 'roundscad', 'tomato'),\n",
    "    fontsize=12,\n",
    "    loc='upper center',\n",
    "    bbox_to_anchor=(0.5, -0.2),\n",
    "    ncol=6\n",
    ")\n",
    "\n",
    "plt.title('Fiber Graph per Produce', fontsize=20)\n",
    "plt.ylabel('Fiber in Grams per Peso', fontsize=16)\n",
    "\n",
    "plt.tight_layout()\n",
    "plt.show()\n"
   ]
  },
  {
   "cell_type": "code",
   "execution_count": 34,
   "id": "a382729b-95c6-41e4-b107-3333ee8ebf27",
   "metadata": {},
   "outputs": [],
   "source": [
    "# Monthly Rankings"
   ]
  }
 ],
 "metadata": {
  "kernelspec": {
   "display_name": "Python 3 (ipykernel)",
   "language": "python",
   "name": "python3"
  },
  "language_info": {
   "codemirror_mode": {
    "name": "ipython",
    "version": 3
   },
   "file_extension": ".py",
   "mimetype": "text/x-python",
   "name": "python",
   "nbconvert_exporter": "python",
   "pygments_lexer": "ipython3",
   "version": "3.12.7"
  }
 },
 "nbformat": 4,
 "nbformat_minor": 5
}
