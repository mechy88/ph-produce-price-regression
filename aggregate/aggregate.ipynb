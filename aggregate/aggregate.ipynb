{
 "cells": [
  {
   "cell_type": "markdown",
   "id": "c93731a5-64d8-4b95-9639-eb34745d4fb3",
   "metadata": {},
   "source": [
    "# Aggregate Data Predicitons and Result Discussion"
   ]
  },
  {
   "cell_type": "markdown",
   "id": "5ccf3dfc-6884-4f59-88a9-664a03e343d7",
   "metadata": {},
   "source": [
    "## Protein"
   ]
  },
  {
   "cell_type": "code",
   "execution_count": 1,
   "id": "83dc4b6b-2c31-4685-86b3-cad95a17bd16",
   "metadata": {},
   "outputs": [],
   "source": [
    "# Graph"
   ]
  },
  {
   "cell_type": "code",
   "execution_count": 3,
   "id": "85a5f7ff-ea34-4576-b2a2-151e5e65e04d",
   "metadata": {},
   "outputs": [],
   "source": [
    "# Monthly Rankings"
   ]
  },
  {
   "cell_type": "code",
   "execution_count": null,
   "id": "c6706cdd-4d9a-41a2-9b8a-bfee71f1bd2d",
   "metadata": {},
   "outputs": [],
   "source": []
  },
  {
   "cell_type": "markdown",
   "id": "90acb05a-5f24-4ca6-90f5-5c9c21a41411",
   "metadata": {},
   "source": [
    "## Fiber"
   ]
  },
  {
   "cell_type": "code",
   "execution_count": 6,
   "id": "4e0a2026-cf77-470b-8b80-c306966c3f76",
   "metadata": {},
   "outputs": [],
   "source": [
    "# Graph"
   ]
  },
  {
   "cell_type": "code",
   "execution_count": 7,
   "id": "d7cd5213-3227-4d2f-b067-42be666da1e5",
   "metadata": {},
   "outputs": [],
   "source": [
    "# Monthly Rankings"
   ]
  },
  {
   "cell_type": "code",
   "execution_count": null,
   "id": "84d4179a-d0c3-4f77-ab7e-fcde8eea18a3",
   "metadata": {},
   "outputs": [],
   "source": []
  },
  {
   "cell_type": "markdown",
   "id": "e2b3b086-f2d2-4957-ac69-2a571790e923",
   "metadata": {},
   "source": [
    "## Fats"
   ]
  },
  {
   "cell_type": "code",
   "execution_count": 8,
   "id": "8ad29aae-f2a6-4dab-9419-7113a16f55fd",
   "metadata": {},
   "outputs": [],
   "source": [
    "# Graph"
   ]
  },
  {
   "cell_type": "code",
   "execution_count": 9,
   "id": "a01d9647-40dc-4e7b-986a-5ae82943ab01",
   "metadata": {},
   "outputs": [],
   "source": [
    "# Monthly Rankings"
   ]
  },
  {
   "cell_type": "code",
   "execution_count": null,
   "id": "5f56d8a5-ef58-45ac-a955-864e2de25772",
   "metadata": {},
   "outputs": [],
   "source": []
  },
  {
   "cell_type": "markdown",
   "id": "6a20afcd-2de4-4a5d-a8d3-7548ab2bf651",
   "metadata": {},
   "source": [
    "## Carbohydrates"
   ]
  },
  {
   "cell_type": "code",
   "execution_count": 1,
   "id": "13716277-e3aa-4e9b-b79a-eb053f7b0ff2",
   "metadata": {},
   "outputs": [],
   "source": [
    "# Graph"
   ]
  },
  {
   "cell_type": "code",
   "execution_count": 3,
   "id": "a382729b-95c6-41e4-b107-3333ee8ebf27",
   "metadata": {},
   "outputs": [],
   "source": [
    "# Monthly Rankings"
   ]
  }
 ],
 "metadata": {
  "kernelspec": {
   "display_name": "Python 3 (ipykernel)",
   "language": "python",
   "name": "python3"
  },
  "language_info": {
   "codemirror_mode": {
    "name": "ipython",
    "version": 3
   },
   "file_extension": ".py",
   "mimetype": "text/x-python",
   "name": "python",
   "nbconvert_exporter": "python",
   "pygments_lexer": "ipython3",
   "version": "3.12.7"
  }
 },
 "nbformat": 4,
 "nbformat_minor": 5
}
