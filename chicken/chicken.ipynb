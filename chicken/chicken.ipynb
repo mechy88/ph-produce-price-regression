{
 "cells": [
  {
   "cell_type": "markdown",
   "id": "fd51292e-7269-48d2-b45c-5cc454072121",
   "metadata": {},
   "source": [
    "# Tilapia Regression Model with SARIMA\n",
    "By Miguel Andre R. Pajarillo"
   ]
  },
  {
   "cell_type": "markdown",
   "id": "4f896f81-ce45-4003-9d18-51960b4bfa5e",
   "metadata": {},
   "source": [
    "## Load the Dataset"
   ]
  },
  {
   "cell_type": "code",
   "execution_count": 1,
   "id": "a4bbc8e8-6ba9-47ff-9b97-647630ff0550",
   "metadata": {},
   "outputs": [],
   "source": [
    "import pandas as pd"
   ]
  },
  {
   "cell_type": "code",
   "execution_count": 2,
   "id": "990c3915-a80c-4aac-a50c-28825383d77a",
   "metadata": {},
   "outputs": [
    {
     "ename": "FileNotFoundError",
     "evalue": "[Errno 2] No such file or directory: './data/tilapia_UN_tilapia_UN.csv.csv'",
     "output_type": "error",
     "traceback": [
      "\u001b[0;31m---------------------------------------------------------------------------\u001b[0m",
      "\u001b[0;31mFileNotFoundError\u001b[0m                         Traceback (most recent call last)",
      "Cell \u001b[0;32mIn[2], line 1\u001b[0m\n\u001b[0;32m----> 1\u001b[0m Tilapia_UN \u001b[38;5;241m=\u001b[39m pd\u001b[38;5;241m.\u001b[39mread_csv(\u001b[38;5;124m'\u001b[39m\u001b[38;5;124m./data/tilapia_UN_tilapia_UN.csv.csv\u001b[39m\u001b[38;5;124m'\u001b[39m)\n",
      "File \u001b[0;32m~/anaconda3/envs/learning-workspace/lib/python3.12/site-packages/pandas/io/parsers/readers.py:1026\u001b[0m, in \u001b[0;36mread_csv\u001b[0;34m(filepath_or_buffer, sep, delimiter, header, names, index_col, usecols, dtype, engine, converters, true_values, false_values, skipinitialspace, skiprows, skipfooter, nrows, na_values, keep_default_na, na_filter, verbose, skip_blank_lines, parse_dates, infer_datetime_format, keep_date_col, date_parser, date_format, dayfirst, cache_dates, iterator, chunksize, compression, thousands, decimal, lineterminator, quotechar, quoting, doublequote, escapechar, comment, encoding, encoding_errors, dialect, on_bad_lines, delim_whitespace, low_memory, memory_map, float_precision, storage_options, dtype_backend)\u001b[0m\n\u001b[1;32m   1013\u001b[0m kwds_defaults \u001b[38;5;241m=\u001b[39m _refine_defaults_read(\n\u001b[1;32m   1014\u001b[0m     dialect,\n\u001b[1;32m   1015\u001b[0m     delimiter,\n\u001b[0;32m   (...)\u001b[0m\n\u001b[1;32m   1022\u001b[0m     dtype_backend\u001b[38;5;241m=\u001b[39mdtype_backend,\n\u001b[1;32m   1023\u001b[0m )\n\u001b[1;32m   1024\u001b[0m kwds\u001b[38;5;241m.\u001b[39mupdate(kwds_defaults)\n\u001b[0;32m-> 1026\u001b[0m \u001b[38;5;28;01mreturn\u001b[39;00m _read(filepath_or_buffer, kwds)\n",
      "File \u001b[0;32m~/anaconda3/envs/learning-workspace/lib/python3.12/site-packages/pandas/io/parsers/readers.py:620\u001b[0m, in \u001b[0;36m_read\u001b[0;34m(filepath_or_buffer, kwds)\u001b[0m\n\u001b[1;32m    617\u001b[0m _validate_names(kwds\u001b[38;5;241m.\u001b[39mget(\u001b[38;5;124m\"\u001b[39m\u001b[38;5;124mnames\u001b[39m\u001b[38;5;124m\"\u001b[39m, \u001b[38;5;28;01mNone\u001b[39;00m))\n\u001b[1;32m    619\u001b[0m \u001b[38;5;66;03m# Create the parser.\u001b[39;00m\n\u001b[0;32m--> 620\u001b[0m parser \u001b[38;5;241m=\u001b[39m TextFileReader(filepath_or_buffer, \u001b[38;5;241m*\u001b[39m\u001b[38;5;241m*\u001b[39mkwds)\n\u001b[1;32m    622\u001b[0m \u001b[38;5;28;01mif\u001b[39;00m chunksize \u001b[38;5;129;01mor\u001b[39;00m iterator:\n\u001b[1;32m    623\u001b[0m     \u001b[38;5;28;01mreturn\u001b[39;00m parser\n",
      "File \u001b[0;32m~/anaconda3/envs/learning-workspace/lib/python3.12/site-packages/pandas/io/parsers/readers.py:1620\u001b[0m, in \u001b[0;36mTextFileReader.__init__\u001b[0;34m(self, f, engine, **kwds)\u001b[0m\n\u001b[1;32m   1617\u001b[0m     \u001b[38;5;28mself\u001b[39m\u001b[38;5;241m.\u001b[39moptions[\u001b[38;5;124m\"\u001b[39m\u001b[38;5;124mhas_index_names\u001b[39m\u001b[38;5;124m\"\u001b[39m] \u001b[38;5;241m=\u001b[39m kwds[\u001b[38;5;124m\"\u001b[39m\u001b[38;5;124mhas_index_names\u001b[39m\u001b[38;5;124m\"\u001b[39m]\n\u001b[1;32m   1619\u001b[0m \u001b[38;5;28mself\u001b[39m\u001b[38;5;241m.\u001b[39mhandles: IOHandles \u001b[38;5;241m|\u001b[39m \u001b[38;5;28;01mNone\u001b[39;00m \u001b[38;5;241m=\u001b[39m \u001b[38;5;28;01mNone\u001b[39;00m\n\u001b[0;32m-> 1620\u001b[0m \u001b[38;5;28mself\u001b[39m\u001b[38;5;241m.\u001b[39m_engine \u001b[38;5;241m=\u001b[39m \u001b[38;5;28mself\u001b[39m\u001b[38;5;241m.\u001b[39m_make_engine(f, \u001b[38;5;28mself\u001b[39m\u001b[38;5;241m.\u001b[39mengine)\n",
      "File \u001b[0;32m~/anaconda3/envs/learning-workspace/lib/python3.12/site-packages/pandas/io/parsers/readers.py:1880\u001b[0m, in \u001b[0;36mTextFileReader._make_engine\u001b[0;34m(self, f, engine)\u001b[0m\n\u001b[1;32m   1878\u001b[0m     \u001b[38;5;28;01mif\u001b[39;00m \u001b[38;5;124m\"\u001b[39m\u001b[38;5;124mb\u001b[39m\u001b[38;5;124m\"\u001b[39m \u001b[38;5;129;01mnot\u001b[39;00m \u001b[38;5;129;01min\u001b[39;00m mode:\n\u001b[1;32m   1879\u001b[0m         mode \u001b[38;5;241m+\u001b[39m\u001b[38;5;241m=\u001b[39m \u001b[38;5;124m\"\u001b[39m\u001b[38;5;124mb\u001b[39m\u001b[38;5;124m\"\u001b[39m\n\u001b[0;32m-> 1880\u001b[0m \u001b[38;5;28mself\u001b[39m\u001b[38;5;241m.\u001b[39mhandles \u001b[38;5;241m=\u001b[39m get_handle(\n\u001b[1;32m   1881\u001b[0m     f,\n\u001b[1;32m   1882\u001b[0m     mode,\n\u001b[1;32m   1883\u001b[0m     encoding\u001b[38;5;241m=\u001b[39m\u001b[38;5;28mself\u001b[39m\u001b[38;5;241m.\u001b[39moptions\u001b[38;5;241m.\u001b[39mget(\u001b[38;5;124m\"\u001b[39m\u001b[38;5;124mencoding\u001b[39m\u001b[38;5;124m\"\u001b[39m, \u001b[38;5;28;01mNone\u001b[39;00m),\n\u001b[1;32m   1884\u001b[0m     compression\u001b[38;5;241m=\u001b[39m\u001b[38;5;28mself\u001b[39m\u001b[38;5;241m.\u001b[39moptions\u001b[38;5;241m.\u001b[39mget(\u001b[38;5;124m\"\u001b[39m\u001b[38;5;124mcompression\u001b[39m\u001b[38;5;124m\"\u001b[39m, \u001b[38;5;28;01mNone\u001b[39;00m),\n\u001b[1;32m   1885\u001b[0m     memory_map\u001b[38;5;241m=\u001b[39m\u001b[38;5;28mself\u001b[39m\u001b[38;5;241m.\u001b[39moptions\u001b[38;5;241m.\u001b[39mget(\u001b[38;5;124m\"\u001b[39m\u001b[38;5;124mmemory_map\u001b[39m\u001b[38;5;124m\"\u001b[39m, \u001b[38;5;28;01mFalse\u001b[39;00m),\n\u001b[1;32m   1886\u001b[0m     is_text\u001b[38;5;241m=\u001b[39mis_text,\n\u001b[1;32m   1887\u001b[0m     errors\u001b[38;5;241m=\u001b[39m\u001b[38;5;28mself\u001b[39m\u001b[38;5;241m.\u001b[39moptions\u001b[38;5;241m.\u001b[39mget(\u001b[38;5;124m\"\u001b[39m\u001b[38;5;124mencoding_errors\u001b[39m\u001b[38;5;124m\"\u001b[39m, \u001b[38;5;124m\"\u001b[39m\u001b[38;5;124mstrict\u001b[39m\u001b[38;5;124m\"\u001b[39m),\n\u001b[1;32m   1888\u001b[0m     storage_options\u001b[38;5;241m=\u001b[39m\u001b[38;5;28mself\u001b[39m\u001b[38;5;241m.\u001b[39moptions\u001b[38;5;241m.\u001b[39mget(\u001b[38;5;124m\"\u001b[39m\u001b[38;5;124mstorage_options\u001b[39m\u001b[38;5;124m\"\u001b[39m, \u001b[38;5;28;01mNone\u001b[39;00m),\n\u001b[1;32m   1889\u001b[0m )\n\u001b[1;32m   1890\u001b[0m \u001b[38;5;28;01massert\u001b[39;00m \u001b[38;5;28mself\u001b[39m\u001b[38;5;241m.\u001b[39mhandles \u001b[38;5;129;01mis\u001b[39;00m \u001b[38;5;129;01mnot\u001b[39;00m \u001b[38;5;28;01mNone\u001b[39;00m\n\u001b[1;32m   1891\u001b[0m f \u001b[38;5;241m=\u001b[39m \u001b[38;5;28mself\u001b[39m\u001b[38;5;241m.\u001b[39mhandles\u001b[38;5;241m.\u001b[39mhandle\n",
      "File \u001b[0;32m~/anaconda3/envs/learning-workspace/lib/python3.12/site-packages/pandas/io/common.py:873\u001b[0m, in \u001b[0;36mget_handle\u001b[0;34m(path_or_buf, mode, encoding, compression, memory_map, is_text, errors, storage_options)\u001b[0m\n\u001b[1;32m    868\u001b[0m \u001b[38;5;28;01melif\u001b[39;00m \u001b[38;5;28misinstance\u001b[39m(handle, \u001b[38;5;28mstr\u001b[39m):\n\u001b[1;32m    869\u001b[0m     \u001b[38;5;66;03m# Check whether the filename is to be opened in binary mode.\u001b[39;00m\n\u001b[1;32m    870\u001b[0m     \u001b[38;5;66;03m# Binary mode does not support 'encoding' and 'newline'.\u001b[39;00m\n\u001b[1;32m    871\u001b[0m     \u001b[38;5;28;01mif\u001b[39;00m ioargs\u001b[38;5;241m.\u001b[39mencoding \u001b[38;5;129;01mand\u001b[39;00m \u001b[38;5;124m\"\u001b[39m\u001b[38;5;124mb\u001b[39m\u001b[38;5;124m\"\u001b[39m \u001b[38;5;129;01mnot\u001b[39;00m \u001b[38;5;129;01min\u001b[39;00m ioargs\u001b[38;5;241m.\u001b[39mmode:\n\u001b[1;32m    872\u001b[0m         \u001b[38;5;66;03m# Encoding\u001b[39;00m\n\u001b[0;32m--> 873\u001b[0m         handle \u001b[38;5;241m=\u001b[39m \u001b[38;5;28mopen\u001b[39m(\n\u001b[1;32m    874\u001b[0m             handle,\n\u001b[1;32m    875\u001b[0m             ioargs\u001b[38;5;241m.\u001b[39mmode,\n\u001b[1;32m    876\u001b[0m             encoding\u001b[38;5;241m=\u001b[39mioargs\u001b[38;5;241m.\u001b[39mencoding,\n\u001b[1;32m    877\u001b[0m             errors\u001b[38;5;241m=\u001b[39merrors,\n\u001b[1;32m    878\u001b[0m             newline\u001b[38;5;241m=\u001b[39m\u001b[38;5;124m\"\u001b[39m\u001b[38;5;124m\"\u001b[39m,\n\u001b[1;32m    879\u001b[0m         )\n\u001b[1;32m    880\u001b[0m     \u001b[38;5;28;01melse\u001b[39;00m:\n\u001b[1;32m    881\u001b[0m         \u001b[38;5;66;03m# Binary mode\u001b[39;00m\n\u001b[1;32m    882\u001b[0m         handle \u001b[38;5;241m=\u001b[39m \u001b[38;5;28mopen\u001b[39m(handle, ioargs\u001b[38;5;241m.\u001b[39mmode)\n",
      "\u001b[0;31mFileNotFoundError\u001b[0m: [Errno 2] No such file or directory: './data/tilapia_UN_tilapia_UN.csv.csv'"
     ]
    }
   ],
   "source": [
    "Tilapia_UN = pd.read_csv('./data/tilapia_UN_tilapia_UN.csv.csv')"
   ]
  },
  {
   "cell_type": "code",
   "execution_count": null,
   "id": "b886d4f5-3c46-4331-a3e1-e0fa7f16c16b",
   "metadata": {},
   "outputs": [],
   "source": [
    "Tilapia_DA = pd.read_csv('./data/tilapia_DA_tilapia_DA.csv.csv')"
   ]
  },
  {
   "cell_type": "code",
   "execution_count": null,
   "id": "3b58f50b-7c6f-46b3-af91-c73fab3fabcd",
   "metadata": {},
   "outputs": [],
   "source": [
    "Tilapia_UN"
   ]
  },
  {
   "cell_type": "code",
   "execution_count": null,
   "id": "4732678f-b0c9-4519-a960-56d09a55a366",
   "metadata": {},
   "outputs": [],
   "source": [
    "Tilapia_DA.head()"
   ]
  },
  {
   "cell_type": "markdown",
   "id": "f137f574-4d9a-43e4-b267-c687de2b82b7",
   "metadata": {},
   "source": [
    "## Extract Necessary Columns (Date and Price)"
   ]
  },
  {
   "cell_type": "markdown",
   "id": "86f557d7-de83-47ea-9ce9-dd6f6a036ffb",
   "metadata": {},
   "source": [
    "### UN World Food Programme"
   ]
  },
  {
   "cell_type": "code",
   "execution_count": null,
   "id": "eb303535-fdc0-49c1-add2-255ed47b76e4",
   "metadata": {},
   "outputs": [],
   "source": [
    "Tilapia_UN['date'] = pd.to_datetime(\n",
    "    Tilapia_UN.rename(columns={'mp_year': 'year', 'mp_month': 'month'})[['year', 'month']].assign(day=15)\n",
    ")"
   ]
  },
  {
   "cell_type": "code",
   "execution_count": null,
   "id": "d787e9ed-393a-4f55-9745-747f2b9d5b1b",
   "metadata": {},
   "outputs": [],
   "source": [
    "Tilapia_UN = Tilapia_UN.drop(columns=['cm_id', 'cm_name', 'um_id', 'um_name', 'mp_month', 'mp_year'])"
   ]
  },
  {
   "cell_type": "code",
   "execution_count": null,
   "id": "a31bf39c-c7ef-4eeb-b204-38ca21d658d7",
   "metadata": {},
   "outputs": [],
   "source": [
    "Tilapia_UN.head()"
   ]
  },
  {
   "cell_type": "markdown",
   "id": "940e403a-b942-4347-b324-668502caeb04",
   "metadata": {},
   "source": [
    "### DA Bantay Presyo"
   ]
  },
  {
   "cell_type": "code",
   "execution_count": null,
   "id": "f9c98241-6f5f-4b7e-a503-a29f44da7b55",
   "metadata": {},
   "outputs": [],
   "source": [
    "Tilapia_DA['date'] = pd.to_datetime(\n",
    "    Tilapia_DA.rename(columns={'mp_year': 'year', 'mp_month': 'month'})[['year', 'month']].assign(day=15)\n",
    ")"
   ]
  },
  {
   "cell_type": "code",
   "execution_count": null,
   "id": "38f5f491-2f1a-44bf-b1c9-93aa951b3367",
   "metadata": {},
   "outputs": [],
   "source": [
    "Tilapia_DA = Tilapia_DA.drop(columns=['cm_id', 'cm_name', 'um_id', 'um_name', 'mp_month', 'mp_year'])"
   ]
  },
  {
   "cell_type": "code",
   "execution_count": null,
   "id": "885564ac-ccc6-4e9c-8545-fcddc49a280c",
   "metadata": {},
   "outputs": [],
   "source": [
    "Tilapia_DA.head()"
   ]
  },
  {
   "cell_type": "code",
   "execution_count": null,
   "id": "95e7bfab-b715-42fc-8f4f-72718dc76adc",
   "metadata": {},
   "outputs": [],
   "source": [
    "import matplotlib.pyplot as plt"
   ]
  },
  {
   "cell_type": "code",
   "execution_count": null,
   "id": "a05ec219-e4c2-4bff-baa9-ecb3f8d61855",
   "metadata": {},
   "outputs": [],
   "source": [
    "Tilapia = pd.concat([Tilapia_DA, Tilapia_UN])"
   ]
  },
  {
   "cell_type": "code",
   "execution_count": null,
   "id": "de6d75de-b454-4824-b189-c0d0b0615a17",
   "metadata": {},
   "outputs": [],
   "source": [
    "plt.scatter(Tilapia['date'], Tilapia['mp_price'], alpha=0.35)\n",
    "plt.figure(figsize=(50, 6))\n",
    "plt.show()"
   ]
  },
  {
   "cell_type": "code",
   "execution_count": null,
   "id": "7b0f7b59-4780-4c98-b6fa-a825e494958b",
   "metadata": {},
   "outputs": [],
   "source": [
    "from datetime import datetime"
   ]
  },
  {
   "cell_type": "code",
   "execution_count": null,
   "id": "6797c240-e21e-4c74-b64e-b8f554c7fcc8",
   "metadata": {},
   "outputs": [],
   "source": [
    "# Set Date as the Inex\n",
    "Tilapia = Tilapia.set_index('date')"
   ]
  },
  {
   "cell_type": "code",
   "execution_count": null,
   "id": "7d8413da-7c40-46ed-99f0-c60ba2e6f4a0",
   "metadata": {},
   "outputs": [],
   "source": [
    "# Aggregate samples to mean\n",
    "Tilapia = Tilapia.resample('MS').mean()"
   ]
  },
  {
   "cell_type": "code",
   "execution_count": null,
   "id": "aceda9c4-71c4-4c2f-b3b9-22285bdaf275",
   "metadata": {},
   "outputs": [],
   "source": [
    "Tilapia['mp_price'] = Tilapia['mp_price'].interpolate(method='linear')"
   ]
  },
  {
   "cell_type": "code",
   "execution_count": null,
   "id": "fc644dac-2475-4b83-bcb1-060341c5f36b",
   "metadata": {},
   "outputs": [],
   "source": [
    "start_date = datetime(2020,1,1)\n",
    "end_date = datetime(2026,1,1)\n",
    "lim_tilapia = Tilapia[start_date:end_date]"
   ]
  },
  {
   "cell_type": "code",
   "execution_count": null,
   "id": "2f65e7b8-ecfe-46d2-8ec3-2f837fef94ac",
   "metadata": {},
   "outputs": [],
   "source": [
    "plt.figure(figsize=(10,4))\n",
    "plt.plot(lim_tilapia)\n",
    "plt.title('Tilapia Price Trend', fontsize=20)\n",
    "plt.ylabel('Price in Peso', fontsize=16)\n",
    "plt.ylim(bottom=0)\n",
    "for year in range(start_date.year,end_date.year):\n",
    "    plt.axvline(pd.to_datetime(str(year)+'-01-01'), color='k', linestyle='--', alpha=0.2)"
   ]
  },
  {
   "cell_type": "markdown",
   "id": "42f28834-832a-483b-b47f-fe80168e9689",
   "metadata": {},
   "source": [
    "## Remove the trend"
   ]
  },
  {
   "cell_type": "code",
   "execution_count": null,
   "id": "50f877da-37c9-4705-b94e-b5a8311c880a",
   "metadata": {},
   "outputs": [],
   "source": [
    "first_diff = lim_tilapia.diff()[1:]"
   ]
  },
  {
   "cell_type": "code",
   "execution_count": null,
   "id": "a7382d6b-0003-4e04-9890-5416518c7bdc",
   "metadata": {},
   "outputs": [],
   "source": [
    "plt.figure(figsize=(10,4))\n",
    "plt.plot(first_diff)\n",
    "plt.title('Tilapia Price Trend', fontsize=20)\n",
    "plt.ylabel('Price in Peso', fontsize=16)\n",
    "for year in range(start_date.year,end_date.year):\n",
    "    plt.axvline(pd.to_datetime(str(year)+'-01-01'), color='k', linestyle='--', alpha=0.2)\n",
    "plt.axhline(0, color='k', linestyle='--', alpha=0.2)"
   ]
  },
  {
   "cell_type": "markdown",
   "id": "64213440-9c26-4d06-80bd-47efd1e86109",
   "metadata": {},
   "source": [
    "## ACF"
   ]
  },
  {
   "cell_type": "code",
   "execution_count": null,
   "id": "a6c3e88e-b328-4272-93c4-3e60b573718a",
   "metadata": {},
   "outputs": [],
   "source": [
    "from statsmodels.tsa.stattools import acf, pacf"
   ]
  },
  {
   "cell_type": "code",
   "execution_count": null,
   "id": "625851f2-5ed1-4bab-9e0a-1dd185ed5d0e",
   "metadata": {},
   "outputs": [],
   "source": [
    "acf_vals = acf(first_diff)\n",
    "num_lags = 18\n",
    "plt.bar(range(num_lags), acf_vals[:num_lags])"
   ]
  },
  {
   "cell_type": "markdown",
   "id": "10a7a1c1-9e64-4515-9eb9-05e122803dba",
   "metadata": {},
   "source": [
    "### Based on ACF, we should start with a seasonal MA process"
   ]
  },
  {
   "cell_type": "markdown",
   "id": "4cb86812-860d-4210-a97c-03eaa9585142",
   "metadata": {},
   "source": [
    "## PACF"
   ]
  },
  {
   "cell_type": "code",
   "execution_count": null,
   "id": "28857757-3321-4c13-896c-139ee403cb52",
   "metadata": {},
   "outputs": [],
   "source": [
    "pacf_vals = pacf(first_diff)\n",
    "num_lags = 18\n",
    "plt.bar(range(num_lags), pacf_vals[:num_lags])"
   ]
  },
  {
   "cell_type": "markdown",
   "id": "1da2c080-1e00-4e2f-a4fa-d0cfb5a83ccb",
   "metadata": {},
   "source": [
    "### Based on PACF, we should start with a seasonal AR process"
   ]
  },
  {
   "cell_type": "markdown",
   "id": "c8669041-7d78-47ca-9873-dc420e147bf7",
   "metadata": {},
   "source": [
    "## Get training and testing sets"
   ]
  },
  {
   "cell_type": "code",
   "execution_count": null,
   "id": "653aa52f-6e9e-4c16-b941-e2153d0c9fab",
   "metadata": {},
   "outputs": [],
   "source": [
    "from datetime import timedelta"
   ]
  },
  {
   "cell_type": "code",
   "execution_count": null,
   "id": "6f55188a-06dc-4cbd-b6cb-e4f62ec37dd0",
   "metadata": {},
   "outputs": [],
   "source": [
    "train_end = datetime(2024,9,1)\n",
    "test_end = datetime(2025,3,1)\n",
    "\n",
    "train_data = lim_tilapia[:train_end]\n",
    "test_data = lim_tilapia[train_end + timedelta(days=1):test_end]"
   ]
  },
  {
   "cell_type": "code",
   "execution_count": null,
   "id": "c371f938-5688-466c-b7b2-214ceeb6f3df",
   "metadata": {},
   "outputs": [],
   "source": [
    "Tilapia.describe()"
   ]
  },
  {
   "cell_type": "markdown",
   "id": "d01adbef-f6be-4593-a2ee-ab12361a0711",
   "metadata": {},
   "source": [
    "## Fit the SARIMA Model"
   ]
  },
  {
   "cell_type": "code",
   "execution_count": null,
   "id": "ab72996d-3c17-445d-85fd-20d524a601cc",
   "metadata": {},
   "outputs": [],
   "source": [
    "from statsmodels.tsa.statespace.sarimax import SARIMAX"
   ]
  },
  {
   "cell_type": "code",
   "execution_count": null,
   "id": "438b4291-a4ea-46af-a803-33f2031428a6",
   "metadata": {},
   "outputs": [],
   "source": [
    "my_order = (0,1,0)\n",
    "my_seasonal_order = (1, 0, 1, 12)\n",
    "# define model\n",
    "model = SARIMAX(train_data, order=my_order, seasonal_order=my_seasonal_order)"
   ]
  },
  {
   "cell_type": "code",
   "execution_count": null,
   "id": "60a39b48-c040-49f2-8589-0ec5fde1bd44",
   "metadata": {},
   "outputs": [],
   "source": [
    "from time import time"
   ]
  },
  {
   "cell_type": "code",
   "execution_count": null,
   "id": "61eafac1-f231-4e0d-8660-248c80cc8d5f",
   "metadata": {
    "scrolled": true
   },
   "outputs": [],
   "source": [
    "#fit the model\n",
    "start = time()\n",
    "model_fit = model.fit()\n",
    "end = time()\n",
    "print('Model Fitting Time:', end - start)"
   ]
  },
  {
   "cell_type": "code",
   "execution_count": null,
   "id": "d1e79258-4391-4aec-9f5d-3774bee5a3f9",
   "metadata": {},
   "outputs": [],
   "source": [
    "#summary of the model\n",
    "print(model_fit.summary())"
   ]
  },
  {
   "cell_type": "code",
   "execution_count": null,
   "id": "47069063-d3cf-41b7-8647-53323bbea817",
   "metadata": {},
   "outputs": [],
   "source": [
    "print(type(test_data))\n",
    "print(test_data.columns)\n",
    "print(test_data.head())"
   ]
  },
  {
   "cell_type": "code",
   "execution_count": null,
   "id": "6964eae9-e369-4728-9495-cc0a991727a6",
   "metadata": {},
   "outputs": [],
   "source": [
    "# Assuming test_data is a DataFrame with a single column named \"mp_price\"\n",
    "test_series = test_data['mp_price']"
   ]
  },
  {
   "cell_type": "code",
   "execution_count": null,
   "id": "de36f809-7b00-4095-a2bc-cc911a5b0a4e",
   "metadata": {},
   "outputs": [],
   "source": [
    "#get the predictions and residuals\n",
    "predictions = model_fit.forecast(len(test_data))\n",
    "predictions = pd.Series(predictions, index=test_data.index)\n",
    "residuals = test_series - predictions"
   ]
  },
  {
   "cell_type": "code",
   "execution_count": null,
   "id": "629063ef-689e-45d7-b76d-f8cc2860f8cc",
   "metadata": {
    "scrolled": true
   },
   "outputs": [],
   "source": [
    "predictions"
   ]
  },
  {
   "cell_type": "code",
   "execution_count": null,
   "id": "4829c970-db80-435c-9353-7cf5b495f826",
   "metadata": {},
   "outputs": [],
   "source": [
    "residuals"
   ]
  },
  {
   "cell_type": "code",
   "execution_count": null,
   "id": "e794d137-0c7e-4280-b52c-46e8ba40884e",
   "metadata": {},
   "outputs": [],
   "source": [
    "plt.figure(figsize=(10,4))\n",
    "plt.plot(residuals)\n",
    "plt.axhline(0, linestyle='--', color='k')\n",
    "plt.title('Residuals from SARIMA Model', fontsize=20)\n",
    "plt.ylabel('Error', fontsize=16)"
   ]
  },
  {
   "cell_type": "code",
   "execution_count": null,
   "id": "b76ebd87-2474-4ae8-9101-c8e20403d1c9",
   "metadata": {},
   "outputs": [],
   "source": [
    "plt.figure(figsize=(10,4))\n",
    "\n",
    "plt.plot(lim_tilapia)\n",
    "plt.plot(predictions)\n",
    "\n",
    "plt.legend(('Data', 'Predictions'), fontsize=16)\n",
    "\n",
    "plt.title('Tilapia Price Trend', fontsize=20)\n",
    "plt.ylabel('Price in Peso', fontsize=16)\n",
    "for year in range(start_date.year,end_date.year):\n",
    "    plt.axvline(pd.to_datetime(str(year)+'-01-01'), color='k', linestyle='--', alpha=0.2)"
   ]
  },
  {
   "cell_type": "markdown",
   "id": "e45e7a73-9e45-405e-89a0-1a5b158fa9cd",
   "metadata": {},
   "source": [
    "## Using the Rolling Forecast Origin"
   ]
  },
  {
   "cell_type": "code",
   "execution_count": null,
   "id": "109ed55e-2352-4ac9-8aa8-d38d82a09445",
   "metadata": {},
   "outputs": [],
   "source": [
    "rolling_predictions = test_series.copy()\n",
    "for train_end in test_series.index:\n",
    "    train_data = lim_tilapia[:train_end-timedelta(days=1)]\n",
    "    model = SARIMAX(train_data, order=my_order, seasonal_order=my_seasonal_order)\n",
    "    model_fit = model.fit()\n",
    "\n",
    "    pred = model_fit.forecast()\n",
    "    rolling_predictions[train_end] = pred"
   ]
  },
  {
   "cell_type": "code",
   "execution_count": null,
   "id": "7083ebea-0f3a-4415-9133-51d1d2a0b128",
   "metadata": {},
   "outputs": [],
   "source": [
    "rolling_residuals = test_series - rolling_predictions"
   ]
  },
  {
   "cell_type": "code",
   "execution_count": null,
   "id": "7fca38f4-850d-4a5b-9769-bbe65a4f809f",
   "metadata": {},
   "outputs": [],
   "source": [
    "plt.figure(figsize=(10,4))\n",
    "plt.plot(rolling_residuals)\n",
    "plt.axhline(0, linestyle='--', color='k')\n",
    "plt.title('Rolling Forecast Residuals from SARIMA Model', fontsize=20)\n",
    "plt.ylabel('Error', fontsize=16)"
   ]
  },
  {
   "cell_type": "code",
   "execution_count": null,
   "id": "d77abefc-e851-4c50-9623-7951229c1eef",
   "metadata": {
    "scrolled": true
   },
   "outputs": [],
   "source": [
    "plt.figure(figsize=(10,4))\n",
    "\n",
    "plt.plot(lim_tilapia)\n",
    "plt.plot(rolling_predictions)\n",
    "\n",
    "plt.legend(('Data', 'Predictions'), fontsize=16)\n",
    "\n",
    "plt.title('Tilapia Price Trend', fontsize=20)\n",
    "plt.ylabel('Price in Peso', fontsize=16)\n",
    "for year in range(start_date.year,end_date.year):\n",
    "    plt.axvline(pd.to_datetime(str(year)+'-01-01'), color='k', linestyle='--', alpha=0.2)"
   ]
  },
  {
   "cell_type": "code",
   "execution_count": null,
   "id": "2891ac83-be2f-4cb6-b572-d04294db7387",
   "metadata": {},
   "outputs": [],
   "source": [
    "import numpy as np"
   ]
  },
  {
   "cell_type": "code",
   "execution_count": null,
   "id": "65d60f95-e45f-4e21-907b-15e0564d93a5",
   "metadata": {},
   "outputs": [],
   "source": [
    "print('Mean Absolute Percent Error:', round(np.mean(abs(rolling_residuals/test_series)),4))"
   ]
  },
  {
   "cell_type": "code",
   "execution_count": null,
   "id": "429c89b1-e6d7-4e24-9388-7f23539a39fb",
   "metadata": {},
   "outputs": [],
   "source": [
    "print('Root Mean Squared Error:', np.sqrt(np.mean(rolling_residuals**2)))"
   ]
  },
  {
   "cell_type": "markdown",
   "id": "0e59637e-1856-45c5-90c7-d9dd43113b06",
   "metadata": {},
   "source": [
    "## Future Predictions (2025)"
   ]
  },
  {
   "cell_type": "code",
   "execution_count": null,
   "id": "14728f4e-7202-49c5-97ba-4083ce8be39d",
   "metadata": {},
   "outputs": [],
   "source": [
    "#get the predictions and residuals\n",
    "predictions = model_fit.forecast(12)\n",
    "# predictions = pd.Series(predictions, index=test_data.index)\n",
    "residuals = test_series - predictions"
   ]
  },
  {
   "cell_type": "code",
   "execution_count": null,
   "id": "1bd91968-b9a4-4319-9bc5-0be31ed8b61e",
   "metadata": {},
   "outputs": [],
   "source": [
    "predictions"
   ]
  },
  {
   "cell_type": "code",
   "execution_count": null,
   "id": "2c1e00ab-36d5-4ac7-b7a0-65b587a70bc2",
   "metadata": {},
   "outputs": [],
   "source": [
    "residuals"
   ]
  },
  {
   "cell_type": "code",
   "execution_count": null,
   "id": "e0e34c07-9b35-41f0-9c5e-923d1c066a29",
   "metadata": {},
   "outputs": [],
   "source": [
    "plt.figure(figsize=(10,4))\n",
    "plt.plot(residuals)\n",
    "plt.axhline(0, linestyle='--', color='k')\n",
    "plt.title('Residuals from SARIMA Model', fontsize=20)\n",
    "plt.ylabel('Error', fontsize=16)"
   ]
  },
  {
   "cell_type": "code",
   "execution_count": null,
   "id": "d8ba8695-5b7e-45fc-af5f-54629eb6e205",
   "metadata": {},
   "outputs": [],
   "source": [
    "plt.figure(figsize=(10,4))\n",
    "\n",
    "plt.plot(lim_tilapia)\n",
    "plt.plot(predictions)\n",
    "\n",
    "plt.legend(('Data', 'Predictions'), fontsize=16)\n",
    "\n",
    "plt.title('Tilapia Price Trend', fontsize=20)\n",
    "plt.ylabel('Price in Peso', fontsize=16)\n",
    "for year in range(2025,2027):\n",
    "    plt.axvline(pd.to_datetime(str(year)+'-01-01'), color='k', linestyle='--', alpha=0.2)"
   ]
  },
  {
   "cell_type": "code",
   "execution_count": null,
   "id": "fe2ae394-63bb-454f-a9b1-7b87094abf15",
   "metadata": {},
   "outputs": [],
   "source": [
    "# Tilapia 100g\n",
    "# Protein = 19g\n",
    "protein = 17.4*10\n",
    "# Carbohydrates = 0g\n",
    "carbs = 0*10\n",
    "# Fats = 2.48 g\n",
    "fats = 16.2*10\n",
    "# Fiber 0g\n",
    "fiber = 0*10"
   ]
  },
  {
   "cell_type": "code",
   "execution_count": null,
   "id": "1795a2ac-f98b-48d7-9721-3a37a1b24987",
   "metadata": {},
   "outputs": [],
   "source": [
    "protein_projection = protein / predictions"
   ]
  },
  {
   "cell_type": "code",
   "execution_count": null,
   "id": "1d85bf4b-39b8-470a-86b6-dd064047d404",
   "metadata": {},
   "outputs": [],
   "source": [
    "plt.figure(figsize=(10,4))\n",
    "\n",
    "plt.plot(protein_projection)\n",
    "\n",
    "plt.title('Grams of Protein per Peso', fontsize=20)\n",
    "plt.ylabel('Protein in Grams', fontsize=16)"
   ]
  },
  {
   "cell_type": "code",
   "execution_count": null,
   "id": "892304c9-02ae-4a42-979d-c2359da48879",
   "metadata": {},
   "outputs": [],
   "source": [
    "carbs_projection = carbs / predictions"
   ]
  },
  {
   "cell_type": "code",
   "execution_count": null,
   "id": "8523ae3c-4f6e-4377-bc46-8d776b278b90",
   "metadata": {},
   "outputs": [],
   "source": [
    "plt.figure(figsize=(10,4))\n",
    "\n",
    "plt.plot(carbs_projection)\n",
    "\n",
    "plt.title('Grams of Carbohydrates per Peso', fontsize=20)\n",
    "plt.ylabel('Protein in Grams', fontsize=16)"
   ]
  },
  {
   "cell_type": "code",
   "execution_count": null,
   "id": "618b29a6-2ae8-482a-8ca9-8851e01c671d",
   "metadata": {},
   "outputs": [],
   "source": [
    "fats_projection = fats / predictions"
   ]
  },
  {
   "cell_type": "code",
   "execution_count": null,
   "id": "88829d76-013f-45cc-af32-7ab99ad0d7a2",
   "metadata": {},
   "outputs": [],
   "source": [
    "plt.figure(figsize=(10,4))\n",
    "\n",
    "plt.plot(fats_projection)\n",
    "\n",
    "plt.title('Grams of Fats per Peso', fontsize=20)\n",
    "plt.ylabel('Protein in Grams', fontsize=16)"
   ]
  },
  {
   "cell_type": "code",
   "execution_count": null,
   "id": "02c12a08-5514-4a8a-be65-6c9a3259989a",
   "metadata": {},
   "outputs": [],
   "source": [
    "fiber_projection = fiber / predictions"
   ]
  },
  {
   "cell_type": "code",
   "execution_count": null,
   "id": "15c212a3-259b-40f6-9641-586cc3557b98",
   "metadata": {
    "jupyter": {
     "source_hidden": true
    }
   },
   "outputs": [],
   "source": [
    "plt.figure(figsize=(10,4))\n",
    "\n",
    "plt.plot(fiber_projection)\n",
    "\n",
    "plt.title('Grams of Fiber per Peso', fontsize=20)\n",
    "plt.ylabel('Protein in Grams', fontsize=16)"
   ]
  },
  {
   "cell_type": "code",
   "execution_count": null,
   "id": "aef3da99-8c62-4263-8527-5661b8d7554f",
   "metadata": {},
   "outputs": [],
   "source": [
    "protein_projection.to_csv('./protein.csv', index=True)\n",
    "carbs_projection.to_csv('./carbs.csv', index=True)\n",
    "fats_projection.to_csv('./fats.csv', index=True)\n",
    "fiber_projection.to_csv('./fiber.csv', index=True)"
   ]
  },
  {
   "cell_type": "code",
   "execution_count": null,
   "id": "4d129d73-b76d-4f10-b83d-1fa8a45d1573",
   "metadata": {},
   "outputs": [],
   "source": []
  }
 ],
 "metadata": {
  "kernelspec": {
   "display_name": "Python 3 (ipykernel)",
   "language": "python",
   "name": "python3"
  },
  "language_info": {
   "codemirror_mode": {
    "name": "ipython",
    "version": 3
   },
   "file_extension": ".py",
   "mimetype": "text/x-python",
   "name": "python",
   "nbconvert_exporter": "python",
   "pygments_lexer": "ipython3",
   "version": "3.12.7"
  }
 },
 "nbformat": 4,
 "nbformat_minor": 5
}
